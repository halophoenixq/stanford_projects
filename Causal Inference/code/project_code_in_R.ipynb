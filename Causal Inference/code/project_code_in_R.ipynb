{
  "nbformat": 4,
  "nbformat_minor": 0,
  "metadata": {
    "colab": {
      "name": "stats209_project_code.ipynb",
      "provenance": [],
      "collapsed_sections": [],
      "toc_visible": true
    },
    "kernelspec": {
      "display_name": "R",
      "name": "ir"
    },
    "language_info": {
      "name": "R"
    }
  },
  "cells": [
    {
      "cell_type": "markdown",
      "metadata": {
        "id": "FmSh6eZWiepm"
      },
      "source": [
        "# [Code] Impact of COVID Misinformation on Vaccination Intent - A Reanalysis Identifying and Addressing Covariate Imbalances\n",
        "\n",
        "Stanford Stats 209 Project\n",
        "\n",
        "Authors: Zhongren Chen, Matheus Dias, Quentin Hsu\n",
        "\n",
        "Full Report: https://www.overleaf.com/read/trngjhvnckrk\n",
        "\n",
        "Covariate Names JSON Mapping: https://codebeautify.org/jsonviewer/cb92c22d"
      ]
    },
    {
      "cell_type": "markdown",
      "metadata": {
        "id": "GTX-0sfSbgGQ"
      },
      "source": [
        "# Import Data"
      ]
    },
    {
      "cell_type": "code",
      "metadata": {
        "id": "D0f58Mp7eaeB"
      },
      "source": [
        "# Download Relevant Files\n",
        "system(\"gdown --id 1nWhtsofuJjDDm-qaiKVH0GvtEmmfGLC7\") # full_orb_us.csv\n",
        "system(\"gdown --id 1Zl1bHYKnZVCSKC3_e6-GXKk7Epzeukj8\") # full_orb_uk.csv|\n",
        "system(\"gdown --id 17Ta02ItPh5goVHnxZJku1H3Hh-sH8L-P\") # utility.R"
      ],
      "execution_count": null,
      "outputs": []
    },
    {
      "cell_type": "code",
      "metadata": {
        "colab": {
          "base_uri": "https://localhost:8080/"
        },
        "id": "UdtubiXmiZsu",
        "outputId": "b8adb9cf-2fb4-4801-d598-197c0faeb709"
      },
      "source": [
        "# Install Packages\n",
        "if(!require(tidytext)){\n",
        "  install.packages(\"tidytext\")\n",
        "}\n",
        "if(!require(optmatch)){\n",
        "  install.packages(\"optmatch\")\n",
        "}\n",
        "if(!require(DOS2)){\n",
        "  install.packages(\"DOS2\")\n",
        "}\n",
        "if(!require(RItools)){\n",
        "  install.packages(\"RItools\")\n",
        "}\n",
        "if(!require(gridExtra)){\n",
        "  install.packages(\"gridExtra\")\n",
        "}\n",
        "if(!require(estimatr)){\n",
        "  install.packages(\"estimatr\")\n",
        "}\n",
        "if(!require(ggpubr)){\n",
        "  install.packages(\"ggpubr\")\n",
        "}\n",
        "if(!require(rstatix)){\n",
        "  install.packages(\"rstatix\")\n",
        "}\n",
        "if(!require(pROC)){\n",
        "  install.packages(\"pROC\")\n",
        "}"
      ],
      "execution_count": null,
      "outputs": [
        {
          "output_type": "stream",
          "name": "stderr",
          "text": [
            "Loading required package: tidytext\n",
            "\n",
            "Warning message in library(package, lib.loc = lib.loc, character.only = TRUE, logical.return = TRUE, :\n",
            "“there is no package called ‘tidytext’”\n",
            "Installing package into ‘/usr/local/lib/R/site-library’\n",
            "(as ‘lib’ is unspecified)\n",
            "\n",
            "also installing the dependencies ‘SnowballC’, ‘hunspell’, ‘janeaustenr’, ‘tokenizers’\n",
            "\n",
            "\n",
            "Loading required package: optmatch\n",
            "\n",
            "Warning message in library(package, lib.loc = lib.loc, character.only = TRUE, logical.return = TRUE, :\n",
            "“there is no package called ‘optmatch’”\n",
            "Installing package into ‘/usr/local/lib/R/site-library’\n",
            "(as ‘lib’ is unspecified)\n",
            "\n",
            "also installing the dependencies ‘SparseM’, ‘abind’, ‘xtable’, ‘svd’, ‘minqa’, ‘numDeriv’, ‘mitools’, ‘RItools’, ‘survey’\n",
            "\n",
            "\n",
            "Loading required package: DOS2\n",
            "\n",
            "Warning message in library(package, lib.loc = lib.loc, character.only = TRUE, logical.return = TRUE, :\n",
            "“there is no package called ‘DOS2’”\n",
            "Installing package into ‘/usr/local/lib/R/site-library’\n",
            "(as ‘lib’ is unspecified)\n",
            "\n",
            "also installing the dependencies ‘BiasedUrn’, ‘mvtnorm’, ‘sensitivity2x2xk’, ‘sensitivitymult’, ‘sensitivitymv’, ‘senstrat’\n",
            "\n",
            "\n",
            "Loading required package: RItools\n",
            "\n",
            "Loading required package: SparseM\n",
            "\n",
            "\n",
            "Attaching package: ‘SparseM’\n",
            "\n",
            "\n",
            "The following object is masked from ‘package:base’:\n",
            "\n",
            "    backsolve\n",
            "\n",
            "\n",
            "Loading required package: gridExtra\n",
            "\n",
            "Warning message in library(package, lib.loc = lib.loc, character.only = TRUE, logical.return = TRUE, :\n",
            "“there is no package called ‘gridExtra’”\n",
            "Installing package into ‘/usr/local/lib/R/site-library’\n",
            "(as ‘lib’ is unspecified)\n",
            "\n",
            "Loading required package: estimatr\n",
            "\n",
            "Warning message in library(package, lib.loc = lib.loc, character.only = TRUE, logical.return = TRUE, :\n",
            "“there is no package called ‘estimatr’”\n",
            "Installing package into ‘/usr/local/lib/R/site-library’\n",
            "(as ‘lib’ is unspecified)\n",
            "\n",
            "also installing the dependencies ‘Formula’, ‘RcppEigen’\n",
            "\n",
            "\n",
            "Loading required package: ggpubr\n",
            "\n",
            "Warning message in library(package, lib.loc = lib.loc, character.only = TRUE, logical.return = TRUE, :\n",
            "“there is no package called ‘ggpubr’”\n",
            "Installing package into ‘/usr/local/lib/R/site-library’\n",
            "(as ‘lib’ is unspecified)\n",
            "\n",
            "also installing the dependencies ‘listenv’, ‘parallelly’, ‘future’, ‘globals’, ‘future.apply’, ‘progressr’, ‘SQUAREM’, ‘lava’, ‘prodlim’, ‘proxy’, ‘iterators’, ‘gower’, ‘ipred’, ‘timeDate’, ‘e1071’, ‘foreach’, ‘ModelMetrics’, ‘plyr’, ‘pROC’, ‘recipes’, ‘reshape2’, ‘matrixStats’, ‘caret’, ‘RcppArmadillo’, ‘MatrixModels’, ‘conquer’, ‘sp’, ‘nloptr’, ‘carData’, ‘pbkrtest’, ‘quantreg’, ‘maptools’, ‘lme4’, ‘corrplot’, ‘car’, ‘ggrepel’, ‘ggsci’, ‘cowplot’, ‘ggsignif’, ‘polynom’, ‘rstatix’\n",
            "\n",
            "\n",
            "Loading required package: rstatix\n",
            "\n",
            "\n",
            "Attaching package: ‘rstatix’\n",
            "\n",
            "\n",
            "The following object is masked from ‘package:stats’:\n",
            "\n",
            "    filter\n",
            "\n",
            "\n",
            "Loading required package: pROC\n",
            "\n",
            "Type 'citation(\"pROC\")' for a citation.\n",
            "\n",
            "\n",
            "Attaching package: ‘pROC’\n",
            "\n",
            "\n",
            "The following objects are masked from ‘package:stats’:\n",
            "\n",
            "    cov, smooth, var\n",
            "\n",
            "\n"
          ]
        }
      ]
    },
    {
      "cell_type": "code",
      "metadata": {
        "colab": {
          "base_uri": "https://localhost:8080/"
        },
        "id": "HbpOBprrbQUC",
        "outputId": "56a3886d-ef03-4c0c-f2d9-ed504809516e"
      },
      "source": [
        "library(tidyverse)\n",
        "library(tidytext)\n",
        "library(optmatch)\n",
        "library(DOS2)\n",
        "library(RItools)\n",
        "library(gridExtra)\n",
        "library(estimatr)\n",
        "library(ggpubr)\n",
        "library(rstatix)\n",
        "library(pROC)\n",
        "source('utility.R')"
      ],
      "execution_count": null,
      "outputs": [
        {
          "output_type": "stream",
          "name": "stderr",
          "text": [
            "Warning message in system(\"timedatectl\", intern = TRUE):\n",
            "“running command 'timedatectl' had status 1”\n",
            "── \u001b[1mAttaching packages\u001b[22m ─────────────────────────────────────── tidyverse 1.3.1 ──\n",
            "\n",
            "\u001b[32m✔\u001b[39m \u001b[34mggplot2\u001b[39m 3.3.5     \u001b[32m✔\u001b[39m \u001b[34mpurrr  \u001b[39m 0.3.4\n",
            "\u001b[32m✔\u001b[39m \u001b[34mtibble \u001b[39m 3.1.6     \u001b[32m✔\u001b[39m \u001b[34mdplyr  \u001b[39m 1.0.7\n",
            "\u001b[32m✔\u001b[39m \u001b[34mtidyr  \u001b[39m 1.1.4     \u001b[32m✔\u001b[39m \u001b[34mstringr\u001b[39m 1.4.0\n",
            "\u001b[32m✔\u001b[39m \u001b[34mreadr  \u001b[39m 2.1.0     \u001b[32m✔\u001b[39m \u001b[34mforcats\u001b[39m 0.5.1\n",
            "\n",
            "── \u001b[1mConflicts\u001b[22m ────────────────────────────────────────── tidyverse_conflicts() ──\n",
            "\u001b[31m✖\u001b[39m \u001b[34mdplyr\u001b[39m::\u001b[32mfilter()\u001b[39m masks \u001b[34mrstatix\u001b[39m::filter(), \u001b[34mstats\u001b[39m::filter()\n",
            "\u001b[31m✖\u001b[39m \u001b[34mdplyr\u001b[39m::\u001b[32mlag()\u001b[39m    masks \u001b[34mstats\u001b[39m::lag()\n",
            "\n",
            "Loading required package: survival\n",
            "\n",
            "The optmatch package has an academic license. Enter relaxinfo() for more information.\n",
            "\n",
            "\n",
            "Attaching package: ‘gridExtra’\n",
            "\n",
            "\n",
            "The following object is masked from ‘package:dplyr’:\n",
            "\n",
            "    combine\n",
            "\n",
            "\n"
          ]
        }
      ]
    },
    {
      "cell_type": "code",
      "metadata": {
        "id": "Y6HZUpBne3HR"
      },
      "source": [
        "df_us <- read.csv(\"full_orb_us.csv\")"
      ],
      "execution_count": null,
      "outputs": []
    },
    {
      "cell_type": "code",
      "metadata": {
        "colab": {
          "base_uri": "https://localhost:8080/",
          "height": 303
        },
        "id": "sRcQ3aeALrn4",
        "outputId": "558cbd60-ad23-49aa-eb8e-7a2bcbebfc3a"
      },
      "source": [
        "head(df_us)"
      ],
      "execution_count": null,
      "outputs": [
        {
          "data": {
            "text/html": [
              "<table class=\"dataframe\">\n",
              "<caption>A data.frame: 6 × 137</caption>\n",
              "<thead>\n",
              "\t<tr><th></th><th scope=col>X</th><th scope=col>Know.anyone.Nobody</th><th scope=col>Know.anyone.Myself</th><th scope=col>Know.anyone.Family.inside.HH</th><th scope=col>Know.anyone.Family.outside.HH</th><th scope=col>Know.anyone.Close.friend</th><th scope=col>Know.anyone.Colleague</th><th scope=col>COVID.19.Knowledge.Washing.hands</th><th scope=col>COVID.19.Knowledge.Staying.indoors.for.Self</th><th scope=col>COVID.19.Knowledge.Staying.indoors.for.Others</th><th scope=col>⋯</th><th scope=col>Age</th><th scope=col>Gender</th><th scope=col>Education</th><th scope=col>Employment</th><th scope=col>Religion</th><th scope=col>Political</th><th scope=col>Ethnicity</th><th scope=col>Income</th><th scope=col>Region</th><th scope=col>Treatment</th></tr>\n",
              "\t<tr><th></th><th scope=col>&lt;int&gt;</th><th scope=col>&lt;int&gt;</th><th scope=col>&lt;int&gt;</th><th scope=col>&lt;int&gt;</th><th scope=col>&lt;int&gt;</th><th scope=col>&lt;int&gt;</th><th scope=col>&lt;int&gt;</th><th scope=col>&lt;int&gt;</th><th scope=col>&lt;int&gt;</th><th scope=col>&lt;int&gt;</th><th scope=col>⋯</th><th scope=col>&lt;int&gt;</th><th scope=col>&lt;int&gt;</th><th scope=col>&lt;int&gt;</th><th scope=col>&lt;int&gt;</th><th scope=col>&lt;int&gt;</th><th scope=col>&lt;int&gt;</th><th scope=col>&lt;int&gt;</th><th scope=col>&lt;int&gt;</th><th scope=col>&lt;chr&gt;</th><th scope=col>&lt;int&gt;</th></tr>\n",
              "</thead>\n",
              "<tbody>\n",
              "\t<tr><th scope=row>1</th><td>0</td><td>0</td><td>0</td><td>0</td><td>0</td><td>0</td><td>1</td><td>1</td><td> 2</td><td> 2</td><td>⋯</td><td>3</td><td>1</td><td>5</td><td>1</td><td>1</td><td>3</td><td>1</td><td>5</td><td>11</td><td>1</td></tr>\n",
              "\t<tr><th scope=row>2</th><td>1</td><td>1</td><td>0</td><td>0</td><td>0</td><td>0</td><td>0</td><td>2</td><td> 2</td><td> 2</td><td>⋯</td><td>5</td><td>2</td><td>2</td><td>1</td><td>5</td><td>2</td><td>1</td><td>1</td><td>18</td><td>1</td></tr>\n",
              "\t<tr><th scope=row>3</th><td>2</td><td>0</td><td>0</td><td>0</td><td>0</td><td>0</td><td>1</td><td>2</td><td> 1</td><td> 1</td><td>⋯</td><td>5</td><td>2</td><td>4</td><td>1</td><td>1</td><td>3</td><td>1</td><td>3</td><td>1 </td><td>1</td></tr>\n",
              "\t<tr><th scope=row>4</th><td>3</td><td>0</td><td>1</td><td>0</td><td>0</td><td>0</td><td>0</td><td>2</td><td>-2</td><td>-1</td><td>⋯</td><td>1</td><td>2</td><td>3</td><td>1</td><td>5</td><td>3</td><td>3</td><td>2</td><td>11</td><td>1</td></tr>\n",
              "\t<tr><th scope=row>5</th><td>4</td><td>1</td><td>0</td><td>0</td><td>0</td><td>0</td><td>0</td><td>1</td><td> 1</td><td>-1</td><td>⋯</td><td>4</td><td>1</td><td>4</td><td>1</td><td>5</td><td>3</td><td>1</td><td>5</td><td>47</td><td>1</td></tr>\n",
              "\t<tr><th scope=row>6</th><td>5</td><td>1</td><td>0</td><td>0</td><td>0</td><td>0</td><td>0</td><td>1</td><td>-2</td><td>-2</td><td>⋯</td><td>5</td><td>1</td><td>4</td><td>1</td><td>1</td><td>3</td><td>1</td><td>2</td><td>10</td><td>1</td></tr>\n",
              "</tbody>\n",
              "</table>\n"
            ],
            "text/latex": "A data.frame: 6 × 137\n\\begin{tabular}{r|lllllllllllllllllllll}\n  & X & Know.anyone.Nobody & Know.anyone.Myself & Know.anyone.Family.inside.HH & Know.anyone.Family.outside.HH & Know.anyone.Close.friend & Know.anyone.Colleague & COVID.19.Knowledge.Washing.hands & COVID.19.Knowledge.Staying.indoors.for.Self & COVID.19.Knowledge.Staying.indoors.for.Others & ⋯ & Age & Gender & Education & Employment & Religion & Political & Ethnicity & Income & Region & Treatment\\\\\n  & <int> & <int> & <int> & <int> & <int> & <int> & <int> & <int> & <int> & <int> & ⋯ & <int> & <int> & <int> & <int> & <int> & <int> & <int> & <int> & <chr> & <int>\\\\\n\\hline\n\t1 & 0 & 0 & 0 & 0 & 0 & 0 & 1 & 1 &  2 &  2 & ⋯ & 3 & 1 & 5 & 1 & 1 & 3 & 1 & 5 & 11 & 1\\\\\n\t2 & 1 & 1 & 0 & 0 & 0 & 0 & 0 & 2 &  2 &  2 & ⋯ & 5 & 2 & 2 & 1 & 5 & 2 & 1 & 1 & 18 & 1\\\\\n\t3 & 2 & 0 & 0 & 0 & 0 & 0 & 1 & 2 &  1 &  1 & ⋯ & 5 & 2 & 4 & 1 & 1 & 3 & 1 & 3 & 1  & 1\\\\\n\t4 & 3 & 0 & 1 & 0 & 0 & 0 & 0 & 2 & -2 & -1 & ⋯ & 1 & 2 & 3 & 1 & 5 & 3 & 3 & 2 & 11 & 1\\\\\n\t5 & 4 & 1 & 0 & 0 & 0 & 0 & 0 & 1 &  1 & -1 & ⋯ & 4 & 1 & 4 & 1 & 5 & 3 & 1 & 5 & 47 & 1\\\\\n\t6 & 5 & 1 & 0 & 0 & 0 & 0 & 0 & 1 & -2 & -2 & ⋯ & 5 & 1 & 4 & 1 & 1 & 3 & 1 & 2 & 10 & 1\\\\\n\\end{tabular}\n",
            "text/markdown": "\nA data.frame: 6 × 137\n\n| <!--/--> | X &lt;int&gt; | Know.anyone.Nobody &lt;int&gt; | Know.anyone.Myself &lt;int&gt; | Know.anyone.Family.inside.HH &lt;int&gt; | Know.anyone.Family.outside.HH &lt;int&gt; | Know.anyone.Close.friend &lt;int&gt; | Know.anyone.Colleague &lt;int&gt; | COVID.19.Knowledge.Washing.hands &lt;int&gt; | COVID.19.Knowledge.Staying.indoors.for.Self &lt;int&gt; | COVID.19.Knowledge.Staying.indoors.for.Others &lt;int&gt; | ⋯ ⋯ | Age &lt;int&gt; | Gender &lt;int&gt; | Education &lt;int&gt; | Employment &lt;int&gt; | Religion &lt;int&gt; | Political &lt;int&gt; | Ethnicity &lt;int&gt; | Income &lt;int&gt; | Region &lt;chr&gt; | Treatment &lt;int&gt; |\n|---|---|---|---|---|---|---|---|---|---|---|---|---|---|---|---|---|---|---|---|---|---|\n| 1 | 0 | 0 | 0 | 0 | 0 | 0 | 1 | 1 |  2 |  2 | ⋯ | 3 | 1 | 5 | 1 | 1 | 3 | 1 | 5 | 11 | 1 |\n| 2 | 1 | 1 | 0 | 0 | 0 | 0 | 0 | 2 |  2 |  2 | ⋯ | 5 | 2 | 2 | 1 | 5 | 2 | 1 | 1 | 18 | 1 |\n| 3 | 2 | 0 | 0 | 0 | 0 | 0 | 1 | 2 |  1 |  1 | ⋯ | 5 | 2 | 4 | 1 | 1 | 3 | 1 | 3 | 1  | 1 |\n| 4 | 3 | 0 | 1 | 0 | 0 | 0 | 0 | 2 | -2 | -1 | ⋯ | 1 | 2 | 3 | 1 | 5 | 3 | 3 | 2 | 11 | 1 |\n| 5 | 4 | 1 | 0 | 0 | 0 | 0 | 0 | 1 |  1 | -1 | ⋯ | 4 | 1 | 4 | 1 | 5 | 3 | 1 | 5 | 47 | 1 |\n| 6 | 5 | 1 | 0 | 0 | 0 | 0 | 0 | 1 | -2 | -2 | ⋯ | 5 | 1 | 4 | 1 | 1 | 3 | 1 | 2 | 10 | 1 |\n\n",
            "text/plain": [
              "  X Know.anyone.Nobody Know.anyone.Myself Know.anyone.Family.inside.HH\n",
              "1 0 0                  0                  0                           \n",
              "2 1 1                  0                  0                           \n",
              "3 2 0                  0                  0                           \n",
              "4 3 0                  1                  0                           \n",
              "5 4 1                  0                  0                           \n",
              "6 5 1                  0                  0                           \n",
              "  Know.anyone.Family.outside.HH Know.anyone.Close.friend Know.anyone.Colleague\n",
              "1 0                             0                        1                    \n",
              "2 0                             0                        0                    \n",
              "3 0                             0                        1                    \n",
              "4 0                             0                        0                    \n",
              "5 0                             0                        0                    \n",
              "6 0                             0                        0                    \n",
              "  COVID.19.Knowledge.Washing.hands COVID.19.Knowledge.Staying.indoors.for.Self\n",
              "1 1                                 2                                         \n",
              "2 2                                 2                                         \n",
              "3 2                                 1                                         \n",
              "4 2                                -2                                         \n",
              "5 1                                 1                                         \n",
              "6 1                                -2                                         \n",
              "  COVID.19.Knowledge.Staying.indoors.for.Others ⋯ Age Gender Education\n",
              "1  2                                            ⋯ 3   1      5        \n",
              "2  2                                            ⋯ 5   2      2        \n",
              "3  1                                            ⋯ 5   2      4        \n",
              "4 -1                                            ⋯ 1   2      3        \n",
              "5 -1                                            ⋯ 4   1      4        \n",
              "6 -2                                            ⋯ 5   1      4        \n",
              "  Employment Religion Political Ethnicity Income Region Treatment\n",
              "1 1          1        3         1         5      11     1        \n",
              "2 1          5        2         1         1      18     1        \n",
              "3 1          1        3         1         3      1      1        \n",
              "4 1          5        3         3         2      11     1        \n",
              "5 1          5        3         1         5      47     1        \n",
              "6 1          1        3         1         2      10     1        "
            ]
          },
          "metadata": {},
          "output_type": "display_data"
        }
      ]
    },
    {
      "cell_type": "code",
      "metadata": {
        "colab": {
          "base_uri": "https://localhost:8080/"
        },
        "id": "WL13viD4fBTw",
        "outputId": "81f779ed-a39f-44a0-9e2c-03f7b1638dde"
      },
      "source": [
        "# see https://github.com/sloomba/covid19-misinfo/blob/main/dat/orb_us.json for coding of the survey questions. Throw into a json viewer like http://jsonviewer.stack.hu/\n",
        "str(df_us)"
      ],
      "execution_count": null,
      "outputs": [
        {
          "name": "stdout",
          "output_type": "stream",
          "text": [
            "'data.frame':\t4001 obs. of  137 variables:\n",
            " $ X                                                : int  0 1 2 3 4 5 6 7 8 9 ...\n",
            " $ Know.anyone.Nobody                               : int  0 1 0 0 1 1 1 0 1 0 ...\n",
            " $ Know.anyone.Myself                               : int  0 0 0 1 0 0 0 0 0 0 ...\n",
            " $ Know.anyone.Family.inside.HH                     : int  0 0 0 0 0 0 0 1 0 0 ...\n",
            " $ Know.anyone.Family.outside.HH                    : int  0 0 0 0 0 0 0 0 0 0 ...\n",
            " $ Know.anyone.Close.friend                         : int  0 0 0 0 0 0 0 0 0 0 ...\n",
            " $ Know.anyone.Colleague                            : int  1 0 1 0 0 0 0 0 0 1 ...\n",
            " $ COVID.19.Knowledge.Washing.hands                 : int  1 2 2 2 1 1 2 1 2 2 ...\n",
            " $ COVID.19.Knowledge.Staying.indoors.for.Self      : int  2 2 1 -2 1 -2 2 2 2 2 ...\n",
            " $ COVID.19.Knowledge.Staying.indoors.for.Others    : int  2 2 1 -1 -1 -2 2 -1 2 -1 ...\n",
            " $ COVID.19.Knowledge.Spread.before.symptoms        : int  -1 2 2 -1 1 1 -1 1 2 2 ...\n",
            " $ COVID.19.Knowledge.R.Number                      : int  1 2 2 2 -1 -1 1 2 1 2 ...\n",
            " $ COVID.19.Knowledge.Treatments.already.exist      : int  2 2 -2 -1 -2 2 1 0 1 -2 ...\n",
            " $ COVID.19.Knowledge.Wearing.masks                 : int  1 2 -1 -2 2 -1 -1 2 2 2 ...\n",
            " $ COVID.19.VCI.COVID.19.Vax.Importance             : int  2 2 -1 -2 2 -2 0 2 2 2 ...\n",
            " $ COVID.19.VCI.COVID.19.Vax.Safety                 : int  1 2 1 1 1 -2 1 -2 2 1 ...\n",
            " $ COVID.19.VCI.COVID.19.Vax.Efficacy               : int  2 2 -1 -1 1 -2 1 1 1 2 ...\n",
            " $ COVID.19.VCI.COVID.19.Vax.Compatibility          : int  -1 2 -2 -2 -2 0 1 1 -2 -2 ...\n",
            " $ COVID.19.VCI.Contract.via.COVID.19.Vax           : int  -2 2 -1 -2 0 -2 0 2 -2 0 ...\n",
            " $ COVID.19.VCI.COVID.19.Vax.benefits.outweigh.risks: int  1 2 -2 -1 1 -2 -1 0 1 0 ...\n",
            " $ General.VCI.Vax.Importance                       : int  2 2 2 2 0 -2 1 0 2 1 ...\n",
            " $ General.VCI.Vax.Safety                           : int  2 2 1 -1 0 2 0 2 2 0 ...\n",
            " $ General.VCI.Vax.Efficacy                         : int  1 2 1 -2 0 -2 1 -1 2 1 ...\n",
            " $ General.VCI.Vax.Compatibility                    : int  1 2 2 -2 1 -2 0 0 2 2 ...\n",
            " $ COVID.19.Impact.Mental.health                    : int  -1 2 2 -2 -2 -2 2 1 2 2 ...\n",
            " $ COVID.19.Impact.Financial.stability              : int  1 2 -1 -1 -2 1 2 1 1 2 ...\n",
            " $ COVID.19.Impact.Daily.disruption                 : int  -1 2 2 1 -1 2 2 -2 2 1 ...\n",
            " $ COVID.19.Impact.Social.disruption                : int  1 2 2 1 -1 2 2 2 1 2 ...\n",
            " $ Social.Facebook.used                             : int  1 1 1 0 0 1 1 1 1 1 ...\n",
            " $ Social.Twitter.used                              : int  1 0 0 0 0 1 1 0 0 1 ...\n",
            " $ Social.YouTube.used                              : int  1 0 0 0 0 1 1 1 1 0 ...\n",
            " $ Social.WhatsApp.used                             : int  1 0 0 0 0 0 0 0 1 0 ...\n",
            " $ Social.Instagram.used                            : int  1 0 1 1 0 1 1 1 1 1 ...\n",
            " $ Social.Pinterest.used                            : int  0 0 0 0 0 1 0 1 1 1 ...\n",
            " $ Social.LinkedIN.used                             : int  0 0 1 0 0 1 0 0 0 0 ...\n",
            " $ Social.Other.used                                : int  0 0 0 0 0 0 1 1 1 0 ...\n",
            " $ Social.None.of.these.used                        : int  0 0 0 0 1 0 0 0 0 0 ...\n",
            " $ Social.Facebook.to.receive.info                  : int  1 1 0 0 0 1 1 1 0 0 ...\n",
            " $ Social.Twitter.to.receive.info                   : int  1 0 0 0 0 1 1 0 0 0 ...\n",
            " $ Social.YouTube.to.receive.info                   : int  0 0 0 0 0 0 1 0 0 0 ...\n",
            " $ Social.WhatsApp.to.receive.info                  : int  0 0 0 0 0 0 0 0 0 0 ...\n",
            " $ Social.Instagram.to.receive.info                 : int  0 0 0 1 0 0 1 0 0 0 ...\n",
            " $ Social.Pinterest.to.receive.info                 : int  0 0 0 0 0 0 0 0 0 0 ...\n",
            " $ Social.LinkedIN.to.receive.info                  : int  0 0 0 0 0 0 0 0 0 0 ...\n",
            " $ Social.Other.to.receive.info                     : int  0 0 0 0 0 0 1 0 0 0 ...\n",
            " $ Social.None.of.these.to.receive.info             : int  0 0 1 0 1 0 0 0 1 1 ...\n",
            " $ Social.Facebook.to.share.info                    : num  1 1 0 0 0 NA 0 NA 0 0 ...\n",
            " $ Social.Twitter.to.share.info                     : num  1 0 0 0 0 NA 0 NA 0 0 ...\n",
            " $ Social.YouTube.to.share.info                     : num  0 0 0 0 0 NA 0 NA 0 0 ...\n",
            " $ Social.WhatsApp.to.share.info                    : num  1 0 0 0 0 NA 0 NA 0 0 ...\n",
            " $ Social.Instagram.to.share.info                   : num  1 0 0 1 0 NA 1 NA 0 0 ...\n",
            " $ Social.Pinterest.to.share.info                   : num  0 0 0 0 0 NA 0 NA 0 0 ...\n",
            " $ Social.LinkedIN.to.share.info                    : num  0 0 0 0 0 NA 0 NA 0 0 ...\n",
            " $ Social.Other.to.share.info                       : num  0 0 0 0 0 NA 0 NA 0 0 ...\n",
            " $ Social.None.of.these.to.share.info               : num  0 0 1 0 1 NA 0 NA 1 1 ...\n",
            " $ Trust.Television                                 : int  0 0 0 1 0 0 0 0 0 0 ...\n",
            " $ Trust.Radio                                      : int  0 0 0 0 0 0 0 0 0 0 ...\n",
            " $ Trust.Newspapers                                 : int  0 0 0 0 0 0 0 0 0 0 ...\n",
            " $ Trust.White.House.Briefings                      : int  1 0 0 0 0 0 0 0 0 1 ...\n",
            " $ Trust.State.Govt..Briefings                      : int  1 0 0 0 0 0 0 0 0 0 ...\n",
            " $ Trust.National.Health.Authorities                : int  1 0 0 0 1 0 0 1 1 0 ...\n",
            " $ Trust.International.Health.Authorities           : int  1 0 0 0 1 0 0 0 1 0 ...\n",
            " $ Trust.Healthcare.Workers                         : int  0 0 1 0 1 0 0 1 0 0 ...\n",
            " $ Trust.Scientists                                 : int  1 0 1 0 0 0 0 0 1 1 ...\n",
            " $ Trust.Govt..Websites                             : int  1 0 0 0 0 0 0 0 0 0 ...\n",
            " $ Trust.Social.Media                               : int  0 0 0 0 0 1 0 1 0 0 ...\n",
            " $ Trust.Celebrities                                : int  0 0 0 0 0 0 0 0 0 0 ...\n",
            " $ Trust.Search.Engines                             : int  0 0 1 1 0 0 0 1 1 0 ...\n",
            " $ Trust.Family.and.friends                         : int  0 0 0 0 0 0 1 1 0 0 ...\n",
            " $ Trust.Work.Guidelines                            : int  1 0 0 0 0 0 0 0 0 0 ...\n",
            " $ Trust.Other                                      : int  0 0 0 0 0 0 0 0 0 0 ...\n",
            " $ Trust.None.of.these                              : int  0 1 0 0 0 0 0 0 0 0 ...\n",
            " $ Reason.Unsure.if.safe                            : num  NA NA 1 0 1 0 1 NA NA 1 ...\n",
            " $ Reason.Unsure.if.effective                       : num  NA NA 1 0 1 1 0 NA NA 0 ...\n",
            " $ Reason.Not.at.risk                               : num  NA NA 0 0 0 0 1 NA NA 0 ...\n",
            " $ Reason.Wait.until.others                         : num  NA NA 0 0 0 0 1 NA NA 1 ...\n",
            " $ Reason.Won.t.be.ill                              : num  NA NA 0 1 1 0 0 NA NA 0 ...\n",
            " $ Reason.Other.effective.treatments                : num  NA NA 0 0 0 0 0 NA NA 0 ...\n",
            " $ Reason.Already.acquired.immunity                 : num  NA NA 1 0 0 0 0 NA NA 0 ...\n",
            " $ Reason.Approval.may.be.rushed                    : num  NA NA 0 0 1 0 1 NA NA 0 ...\n",
            " $ Reason.Other                                     : num  NA NA 0 0 0 0 0 NA NA 0 ...\n",
            " $ Reason.Do.not.know                               : num  NA NA 0 0 0 0 0 NA NA 0 ...\n",
            " $ PostReason.Unsure.if.safe                        : num  1 NA 1 0 1 NA 1 0 NA 1 ...\n",
            " $ PostReason.Unsure.if.effective                   : num  0 NA 1 0 1 NA 1 0 NA 1 ...\n",
            " $ PostReason.Not.at.risk                           : num  0 NA 0 0 0 NA 0 1 NA 0 ...\n",
            " $ PostReason.Wait.until.others                     : num  1 NA 0 0 0 NA 1 0 NA 0 ...\n",
            " $ PostReason.Won.t.be.ill                          : num  0 NA 0 0 1 NA 0 1 NA 0 ...\n",
            " $ PostReason.Other.effective.treatments            : num  0 NA 0 1 0 NA 0 0 NA 0 ...\n",
            " $ PostReason.Already.acquired.immunity             : num  0 NA 1 0 0 NA 0 1 NA 0 ...\n",
            " $ PostReason.Approval.may.be.rushed                : num  0 NA 0 0 1 NA 0 0 NA 0 ...\n",
            " $ PostReason.Other                                 : num  0 NA 0 0 0 NA 0 0 NA 0 ...\n",
            " $ PostReason.Do.not.know                           : num  0 NA 0 0 0 NA 0 0 NA 0 ...\n",
            " $ Image.1.Vaccine.Intent                           : int  1 2 -1 -1 2 2 2 1 0 0 ...\n",
            " $ Image.1.Agreement                                : int  0 2 -2 1 0 -2 0 2 0 0 ...\n",
            " $ Image.1.Trust                                    : int  -1 2 0 0 -1 -2 1 -1 1 -2 ...\n",
            " $ Image.1.Fact.check                               : int  2 2 2 -1 2 -2 2 0 2 1 ...\n",
            " $ Image.1.Share                                    : int  -1 2 -2 0 -2 -2 -2 0 -1 -2 ...\n",
            " $ Image.2.Vaccine.Intent                           : int  -1 2 2 -1 0 2 0 -2 0 0 ...\n",
            " $ Image.2.Agreement                                : int  2 2 -2 0 -1 -2 0 0 0 0 ...\n",
            "  [list output truncated]\n"
          ]
        }
      ]
    },
    {
      "cell_type": "markdown",
      "metadata": {
        "id": "E8BQZ_sNbi9E"
      },
      "source": [
        "# Data Processing"
      ]
    },
    {
      "cell_type": "code",
      "metadata": {
        "colab": {
          "base_uri": "https://localhost:8080/",
          "height": 306
        },
        "id": "azcXviIg4CXq",
        "outputId": "5e03748e-88dd-44dc-8aee-80ab9e855eb6"
      },
      "source": [
        "# US\n",
        "df_us_cleaned <- df_us %>%\n",
        "  mutate(\n",
        "    z = Treatment,\n",
        "    inv_z = 1 - Treatment,\n",
        "\n",
        "    # Pre-Treatment Covariates\n",
        "    Shielding = ifelse(Shielding == 2, 0, 1),\n",
        "    know.anyone.covid = (1 - Know.anyone.Nobody),\n",
        "\n",
        "    # Derived Personas\n",
        "\n",
        "    ## Bad Covid Knowledge\n",
        "    ## only including these 5 which should be broadly known. Other 2 may not be well known.\n",
        "    covid_knowledge_avg = (\n",
        "      (COVID.19.Knowledge.Washing.hands) +\n",
        "      (COVID.19.Knowledge.Staying.indoors.for.Self) +\n",
        "      (COVID.19.Knowledge.Staying.indoors.for.Others) +\n",
        "      (COVID.19.Knowledge.Spread.before.symptoms) +\n",
        "      (COVID.19.Knowledge.Wearing.masks)\n",
        "    )/5,\n",
        "    bad_covid_knowledge = ifelse(covid_knowledge_avg < 0, 1, 0),\n",
        "    \n",
        "    ## Distrust of Covid Vax\n",
        "    ## flip these two since their wording is opposite (agree is bad)\n",
        "    COVID.19.VCI.COVID.19.Vax.Compatibility = COVID.19.VCI.COVID.19.Vax.Compatibility * -1,\n",
        "    COVID.19.VCI.Contract.via.COVID.19.Vax = COVID.19.VCI.Contract.via.COVID.19.Vax *\n",
        "      -1,\n",
        "    covid_vax_trust_avg = (\n",
        "      COVID.19.VCI.COVID.19.Vax.Importance +\n",
        "        COVID.19.VCI.COVID.19.Vax.Safety +\n",
        "        COVID.19.VCI.COVID.19.Vax.Efficacy +\n",
        "        COVID.19.VCI.COVID.19.Vax.benefits.outweigh.risks +\n",
        "        COVID.19.VCI.COVID.19.Vax.Compatibility +\n",
        "        COVID.19.VCI.Contract.via.COVID.19.Vax\n",
        "    ) / 6,\n",
        "    bad_covid_vax_trust = ifelse(covid_vax_trust_avg < 0, 1, 0),\n",
        "    \n",
        "    ## Distrust of General Vax\n",
        "    general_vax_trust_avg = (\n",
        "      General.VCI.Vax.Importance +\n",
        "        General.VCI.Vax.Safety +\n",
        "        General.VCI.Vax.Efficacy +\n",
        "        General.VCI.Vax.Compatibility\n",
        "    ) / 4,\n",
        "    bad_general_vax_trust = ifelse(general_vax_trust_avg < 0, 1, 0), \n",
        "\n",
        "    # note this is post-treatment, but should technically be ok\n",
        "    # since should not have been affected by treatment\n",
        "    covid_disrupt = ifelse((\n",
        "      COVID.19.Impact.Mental.health +\n",
        "        COVID.19.Impact.Financial.stability +\n",
        "        COVID.19.Impact.Daily.disruption +\n",
        "        COVID.19.Impact.Social.disruption\n",
        "    ) / 4 > 0,\n",
        "    1,\n",
        "    0\n",
        "    ), \n",
        "\n",
        "    # Processed Questions\n",
        "    ## Make questions -1, 0, 1 for more samples per bucket\n",
        "    COVID.19.Knowledge.Washing.hands.tri = ifelse(COVID.19.Knowledge.Washing.hands == 0, 0, ifelse(COVID.19.Knowledge.Washing.hands < 0, -1, 1)),\n",
        "    COVID.19.Knowledge.Staying.indoors.for.Self.tri = ifelse(COVID.19.Knowledge.Staying.indoors.for.Self == 0, 0, ifelse(COVID.19.Knowledge.Staying.indoors.for.Self < 0, -1, 1)),\n",
        "    COVID.19.Knowledge.Staying.indoors.for.Others.tri = ifelse(COVID.19.Knowledge.Staying.indoors.for.Others == 0, 0, ifelse(COVID.19.Knowledge.Staying.indoors.for.Others < 0, -1, 1)),\n",
        "    COVID.19.Knowledge.Spread.before.symptoms.tri = ifelse(COVID.19.Knowledge.Spread.before.symptoms == 0, 0, ifelse(COVID.19.Knowledge.Spread.before.symptoms < 0, -1, 1)),\n",
        "    COVID.19.Knowledge.Wearing.masks.tri = ifelse(COVID.19.Knowledge.Wearing.masks == 0, 0, ifelse(COVID.19.Knowledge.Wearing.masks < 0, -1, 1)),\n",
        "    COVID.19.VCI.COVID.19.Vax.Importance.tri = ifelse(COVID.19.VCI.COVID.19.Vax.Importance == 0, 0, ifelse(COVID.19.VCI.COVID.19.Vax.Importance < 0, -1, 1)),\n",
        "    COVID.19.VCI.COVID.19.Vax.Safety.tri = ifelse(COVID.19.VCI.COVID.19.Vax.Safety == 0, 0, ifelse(COVID.19.VCI.COVID.19.Vax.Safety < 0, -1, 1)),\n",
        "    COVID.19.VCI.COVID.19.Vax.Efficacy.tri = ifelse(COVID.19.VCI.COVID.19.Vax.Efficacy == 0, 0, ifelse(COVID.19.VCI.COVID.19.Vax.Efficacy < 0, -1, 1)),\n",
        "    COVID.19.VCI.COVID.19.Vax.benefits.outweigh.risks.tri = ifelse(COVID.19.VCI.COVID.19.Vax.benefits.outweigh.risks == 0, 0, ifelse(COVID.19.VCI.COVID.19.Vax.benefits.outweigh.risks < 0, -1, 1)),\n",
        "    COVID.19.VCI.COVID.19.Vax.Compatibility.tri = ifelse(COVID.19.VCI.COVID.19.Vax.Compatibility == 0, 0, ifelse(COVID.19.VCI.COVID.19.Vax.Compatibility < 0, -1, 1)),\n",
        "    COVID.19.VCI.Contract.via.COVID.19.Vax.tri = ifelse(COVID.19.VCI.Contract.via.COVID.19.Vax == 0, 0, ifelse(COVID.19.VCI.Contract.via.COVID.19.Vax < 0, -1, 1)),\n",
        "    General.VCI.Vax.Importance.tri = ifelse(General.VCI.Vax.Importance == 0, 0, ifelse(General.VCI.Vax.Importance < 0, -1, 1)),\n",
        "    General.VCI.Vax.Safety.tri = ifelse(General.VCI.Vax.Safety == 0, 0, ifelse(General.VCI.Vax.Safety < 0, -1, 1)),\n",
        "    General.VCI.Vax.Efficacy.tri = ifelse(General.VCI.Vax.Efficacy == 0, 0, ifelse(General.VCI.Vax.Efficacy < 0, -1, 1)),\n",
        "    General.VCI.Vax.Compatibility.tri = ifelse(General.VCI.Vax.Compatibility == 0, 0, ifelse(General.VCI.Vax.Compatibility < 0, -1, 1)),\n",
        "    \n",
        "    # Outcomes\n",
        "\n",
        "    ## Strict Decrease in Vaccine Intent\n",
        "    ## note that 1 is the first answer choice which is Yes, so a \"decrease\" in vaccine intent is actually an \"increase\" in the answer number choice\n",
        "    Vaccine.Intent.for.self..Decrease = (Vaccine.Intent.for.self..Post. > Vaccine.Intent.for.self..Pre.),\n",
        "    Vaccine.Intent.for.others..Decrease = (Vaccine.Intent.for.others..Post. > Vaccine.Intent.for.others..Pre.),\n",
        "\n",
        "    pre_vaccine_no_intent = (Vaccine.Intent.for.self..Pre. == 4),\n",
        "    \n",
        "    ## Agreeing with Misinfo\n",
        "    Image.NumAgree = ((Image.1.Agreement > 0) + (Image.2.Agreement > 0) + (Image.3.Agreement > 0) + (Image.4.Agreement > 0) + (Image.5.Agreement > 0)),\n",
        "    Image.NumDontKnow = ((Image.1.Agreement == 0) + (Image.2.Agreement == 0) + (Image.3.Agreement == 0) + (Image.4.Agreement == 0) + (Image.5.Agreement == 0)),\n",
        "    Image.NumDisagree = (5 - Image.NumAgree - Image.NumDontKnow),\n",
        "    NumMisinfoBelief = Treatment*Image.NumAgree + (1-Treatment)*(Image.NumDisagree),\n",
        "    MisinfoBeliever = NumMisinfoBelief > 1,\n",
        "\n",
        "    ## Sharing the Misinfo\n",
        "    Image.NumShare = ((Image.1.Share > 0) + (Image.2.Share> 0) + (Image.3.Share > 0) + (Image.4.Share > 0) + (Image.5.Share > 0)),\n",
        "    Image.NumDontKnow = ((Image.1.Share == 0) + (Image.2.Share == 0) + (Image.3.Share == 0) + (Image.4.Share == 0) + (Image.5.Share == 0)),\n",
        "    Image.NumNotShare = (5 - Image.NumShare - Image.NumDontKnow),\n",
        "    NumMisinfoShare = Treatment*Image.NumShare + (1-Treatment)*(Image.NumNotShare),\n",
        "    MisinfoShare = NumMisinfoShare > 1,\n",
        "    \n",
        "    ## Trusting the Misinfo Source\n",
        "    Image.NumTrust = ((Image.1.Trust > 0) + (Image.2.Trust> 0) + (Image.3.Trust > 0) + (Image.4.Trust > 0) + (Image.5.Trust > 0)),\n",
        "    Image.NumDontKnow = ((Image.1.Trust == 0) + (Image.2.Trust == 0) + (Image.3.Trust == 0) + (Image.4.Trust == 0) + (Image.5.Trust == 0)),\n",
        "    Image.NumNotTrust = (5 - Image.NumTrust - Image.NumDontKnow),\n",
        "    NumMisinfoTrust = Treatment*Image.NumTrust + (1-Treatment)*(Image.NumNotTrust),\n",
        "    MisinfoTrust = NumMisinfoTrust > 1\n",
        "  )\n",
        "\n",
        "df_us_cleaned %>%\n",
        "  select(\n",
        "    z,\n",
        "    inv_z,\n",
        "    Treatment,\n",
        "    Shielding,\n",
        "    know.anyone.covid,\n",
        "    bad_covid_knowledge,\n",
        "    bad_covid_vax_trust,\n",
        "    bad_general_vax_trust,\n",
        "    covid_disrupt,\n",
        "    Vaccine.Intent.for.self..Decrease,\n",
        "    Vaccine.Intent.for.self..Post.,\n",
        "    Vaccine.Intent.for.self..Pre.,\n",
        "    Vaccine.Intent.for.others..Decrease,\n",
        "    Vaccine.Intent.for.others..Post.,\n",
        "    Vaccine.Intent.for.others..Pre.,\n",
        "    NumMisinfoBelief,\n",
        "    NumMisinfoShare,\n",
        "    NumMisinfoTrust\n",
        "  ) %>% head()"
      ],
      "execution_count": null,
      "outputs": [
        {
          "output_type": "display_data",
          "data": {
            "text/plain": [
              "  z inv_z Treatment Shielding know.anyone.covid bad_covid_knowledge\n",
              "1 1 0     1         0         1                 0                  \n",
              "2 1 0     1         1         0                 0                  \n",
              "3 1 0     1         1         1                 0                  \n",
              "4 1 0     1         0         1                 1                  \n",
              "5 1 0     1         0         0                 0                  \n",
              "6 1 0     1         1         0                 1                  \n",
              "  bad_covid_vax_trust bad_general_vax_trust covid_disrupt\n",
              "1 0                   0                     0            \n",
              "2 0                   0                     1            \n",
              "3 0                   0                     1            \n",
              "4 0                   1                     0            \n",
              "5 0                   0                     0            \n",
              "6 1                   1                     1            \n",
              "  Vaccine.Intent.for.self..Decrease Vaccine.Intent.for.self..Post.\n",
              "1  TRUE                             2                             \n",
              "2 FALSE                             1                             \n",
              "3 FALSE                             3                             \n",
              "4 FALSE                             2                             \n",
              "5 FALSE                             2                             \n",
              "6 FALSE                             4                             \n",
              "  Vaccine.Intent.for.self..Pre. Vaccine.Intent.for.others..Decrease\n",
              "1 1                             FALSE                              \n",
              "2 1                             FALSE                              \n",
              "3 3                              TRUE                              \n",
              "4 2                             FALSE                              \n",
              "5 2                             FALSE                              \n",
              "6 4                             FALSE                              \n",
              "  Vaccine.Intent.for.others..Post. Vaccine.Intent.for.others..Pre.\n",
              "1 1                                1                              \n",
              "2 1                                1                              \n",
              "3 3                                1                              \n",
              "4 1                                1                              \n",
              "5 1                                1                              \n",
              "6 4                                4                              \n",
              "  NumMisinfoBelief NumMisinfoShare NumMisinfoTrust\n",
              "1 3                3               1              \n",
              "2 5                5               5              \n",
              "3 2                1               0              \n",
              "4 1                2               1              \n",
              "5 0                0               0              \n",
              "6 1                1               1              "
            ],
            "text/latex": "A data.frame: 6 × 18\n\\begin{tabular}{r|llllllllllllllllll}\n  & z & inv\\_z & Treatment & Shielding & know.anyone.covid & bad\\_covid\\_knowledge & bad\\_covid\\_vax\\_trust & bad\\_general\\_vax\\_trust & covid\\_disrupt & Vaccine.Intent.for.self..Decrease & Vaccine.Intent.for.self..Post. & Vaccine.Intent.for.self..Pre. & Vaccine.Intent.for.others..Decrease & Vaccine.Intent.for.others..Post. & Vaccine.Intent.for.others..Pre. & NumMisinfoBelief & NumMisinfoShare & NumMisinfoTrust\\\\\n  & <int> & <dbl> & <int> & <dbl> & <dbl> & <dbl> & <dbl> & <dbl> & <dbl> & <lgl> & <int> & <int> & <lgl> & <int> & <int> & <dbl> & <dbl> & <dbl>\\\\\n\\hline\n\t1 & 1 & 0 & 1 & 0 & 1 & 0 & 0 & 0 & 0 &  TRUE & 2 & 1 & FALSE & 1 & 1 & 3 & 3 & 1\\\\\n\t2 & 1 & 0 & 1 & 1 & 0 & 0 & 0 & 0 & 1 & FALSE & 1 & 1 & FALSE & 1 & 1 & 5 & 5 & 5\\\\\n\t3 & 1 & 0 & 1 & 1 & 1 & 0 & 0 & 0 & 1 & FALSE & 3 & 3 &  TRUE & 3 & 1 & 2 & 1 & 0\\\\\n\t4 & 1 & 0 & 1 & 0 & 1 & 1 & 0 & 1 & 0 & FALSE & 2 & 2 & FALSE & 1 & 1 & 1 & 2 & 1\\\\\n\t5 & 1 & 0 & 1 & 0 & 0 & 0 & 0 & 0 & 0 & FALSE & 2 & 2 & FALSE & 1 & 1 & 0 & 0 & 0\\\\\n\t6 & 1 & 0 & 1 & 1 & 0 & 1 & 1 & 1 & 1 & FALSE & 4 & 4 & FALSE & 4 & 4 & 1 & 1 & 1\\\\\n\\end{tabular}\n",
            "text/markdown": "\nA data.frame: 6 × 18\n\n| <!--/--> | z &lt;int&gt; | inv_z &lt;dbl&gt; | Treatment &lt;int&gt; | Shielding &lt;dbl&gt; | know.anyone.covid &lt;dbl&gt; | bad_covid_knowledge &lt;dbl&gt; | bad_covid_vax_trust &lt;dbl&gt; | bad_general_vax_trust &lt;dbl&gt; | covid_disrupt &lt;dbl&gt; | Vaccine.Intent.for.self..Decrease &lt;lgl&gt; | Vaccine.Intent.for.self..Post. &lt;int&gt; | Vaccine.Intent.for.self..Pre. &lt;int&gt; | Vaccine.Intent.for.others..Decrease &lt;lgl&gt; | Vaccine.Intent.for.others..Post. &lt;int&gt; | Vaccine.Intent.for.others..Pre. &lt;int&gt; | NumMisinfoBelief &lt;dbl&gt; | NumMisinfoShare &lt;dbl&gt; | NumMisinfoTrust &lt;dbl&gt; |\n|---|---|---|---|---|---|---|---|---|---|---|---|---|---|---|---|---|---|---|\n| 1 | 1 | 0 | 1 | 0 | 1 | 0 | 0 | 0 | 0 |  TRUE | 2 | 1 | FALSE | 1 | 1 | 3 | 3 | 1 |\n| 2 | 1 | 0 | 1 | 1 | 0 | 0 | 0 | 0 | 1 | FALSE | 1 | 1 | FALSE | 1 | 1 | 5 | 5 | 5 |\n| 3 | 1 | 0 | 1 | 1 | 1 | 0 | 0 | 0 | 1 | FALSE | 3 | 3 |  TRUE | 3 | 1 | 2 | 1 | 0 |\n| 4 | 1 | 0 | 1 | 0 | 1 | 1 | 0 | 1 | 0 | FALSE | 2 | 2 | FALSE | 1 | 1 | 1 | 2 | 1 |\n| 5 | 1 | 0 | 1 | 0 | 0 | 0 | 0 | 0 | 0 | FALSE | 2 | 2 | FALSE | 1 | 1 | 0 | 0 | 0 |\n| 6 | 1 | 0 | 1 | 1 | 0 | 1 | 1 | 1 | 1 | FALSE | 4 | 4 | FALSE | 4 | 4 | 1 | 1 | 1 |\n\n",
            "text/html": [
              "<table class=\"dataframe\">\n",
              "<caption>A data.frame: 6 × 18</caption>\n",
              "<thead>\n",
              "\t<tr><th></th><th scope=col>z</th><th scope=col>inv_z</th><th scope=col>Treatment</th><th scope=col>Shielding</th><th scope=col>know.anyone.covid</th><th scope=col>bad_covid_knowledge</th><th scope=col>bad_covid_vax_trust</th><th scope=col>bad_general_vax_trust</th><th scope=col>covid_disrupt</th><th scope=col>Vaccine.Intent.for.self..Decrease</th><th scope=col>Vaccine.Intent.for.self..Post.</th><th scope=col>Vaccine.Intent.for.self..Pre.</th><th scope=col>Vaccine.Intent.for.others..Decrease</th><th scope=col>Vaccine.Intent.for.others..Post.</th><th scope=col>Vaccine.Intent.for.others..Pre.</th><th scope=col>NumMisinfoBelief</th><th scope=col>NumMisinfoShare</th><th scope=col>NumMisinfoTrust</th></tr>\n",
              "\t<tr><th></th><th scope=col>&lt;int&gt;</th><th scope=col>&lt;dbl&gt;</th><th scope=col>&lt;int&gt;</th><th scope=col>&lt;dbl&gt;</th><th scope=col>&lt;dbl&gt;</th><th scope=col>&lt;dbl&gt;</th><th scope=col>&lt;dbl&gt;</th><th scope=col>&lt;dbl&gt;</th><th scope=col>&lt;dbl&gt;</th><th scope=col>&lt;lgl&gt;</th><th scope=col>&lt;int&gt;</th><th scope=col>&lt;int&gt;</th><th scope=col>&lt;lgl&gt;</th><th scope=col>&lt;int&gt;</th><th scope=col>&lt;int&gt;</th><th scope=col>&lt;dbl&gt;</th><th scope=col>&lt;dbl&gt;</th><th scope=col>&lt;dbl&gt;</th></tr>\n",
              "</thead>\n",
              "<tbody>\n",
              "\t<tr><th scope=row>1</th><td>1</td><td>0</td><td>1</td><td>0</td><td>1</td><td>0</td><td>0</td><td>0</td><td>0</td><td> TRUE</td><td>2</td><td>1</td><td>FALSE</td><td>1</td><td>1</td><td>3</td><td>3</td><td>1</td></tr>\n",
              "\t<tr><th scope=row>2</th><td>1</td><td>0</td><td>1</td><td>1</td><td>0</td><td>0</td><td>0</td><td>0</td><td>1</td><td>FALSE</td><td>1</td><td>1</td><td>FALSE</td><td>1</td><td>1</td><td>5</td><td>5</td><td>5</td></tr>\n",
              "\t<tr><th scope=row>3</th><td>1</td><td>0</td><td>1</td><td>1</td><td>1</td><td>0</td><td>0</td><td>0</td><td>1</td><td>FALSE</td><td>3</td><td>3</td><td> TRUE</td><td>3</td><td>1</td><td>2</td><td>1</td><td>0</td></tr>\n",
              "\t<tr><th scope=row>4</th><td>1</td><td>0</td><td>1</td><td>0</td><td>1</td><td>1</td><td>0</td><td>1</td><td>0</td><td>FALSE</td><td>2</td><td>2</td><td>FALSE</td><td>1</td><td>1</td><td>1</td><td>2</td><td>1</td></tr>\n",
              "\t<tr><th scope=row>5</th><td>1</td><td>0</td><td>1</td><td>0</td><td>0</td><td>0</td><td>0</td><td>0</td><td>0</td><td>FALSE</td><td>2</td><td>2</td><td>FALSE</td><td>1</td><td>1</td><td>0</td><td>0</td><td>0</td></tr>\n",
              "\t<tr><th scope=row>6</th><td>1</td><td>0</td><td>1</td><td>1</td><td>0</td><td>1</td><td>1</td><td>1</td><td>1</td><td>FALSE</td><td>4</td><td>4</td><td>FALSE</td><td>4</td><td>4</td><td>1</td><td>1</td><td>1</td></tr>\n",
              "</tbody>\n",
              "</table>\n"
            ]
          },
          "metadata": {}
        }
      ]
    },
    {
      "cell_type": "code",
      "metadata": {
        "id": "z4bQOWLaSQo0"
      },
      "source": [
        "df_us_cleaned_removed_no_intent <- df_us_cleaned %>%\n",
        "  filter(pre_vaccine_no_intent == 0)"
      ],
      "execution_count": null,
      "outputs": []
    },
    {
      "cell_type": "code",
      "metadata": {
        "id": "4TEfbispUBLT"
      },
      "source": [
        "final_covariates <- c(\n",
        "  'Age',\n",
        "  'Gender', \n",
        "  'Education', \n",
        "  'Employment', \n",
        "  'Religion', \n",
        "  'Political', \n",
        "  'Ethnicity', \n",
        "  'Income',\n",
        "  'know.anyone.covid',\n",
        "  'Shielding',\n",
        "  'bad_covid_knowledge',\n",
        "  'bad_covid_vax_trust',\n",
        "  'bad_general_vax_trust',\n",
        "  'covid_disrupt'\n",
        ")\n",
        "\n",
        "detailed_covariates <- c(\n",
        "  final_covariates,\n",
        "  'COVID.19.Knowledge.Washing.hands.tri',\n",
        "  'COVID.19.Knowledge.Staying.indoors.for.Self.tri',\n",
        "  'COVID.19.Knowledge.Staying.indoors.for.Others.tri',\n",
        "  'COVID.19.Knowledge.Spread.before.symptoms.tri',\n",
        "  'COVID.19.Knowledge.Wearing.masks.tri',\n",
        "  'COVID.19.VCI.COVID.19.Vax.Importance.tri',\n",
        "  'COVID.19.VCI.COVID.19.Vax.Safety.tri',\n",
        "  'COVID.19.VCI.COVID.19.Vax.Efficacy.tri',\n",
        "  'COVID.19.VCI.COVID.19.Vax.benefits.outweigh.risks.tri',\n",
        "  'COVID.19.VCI.COVID.19.Vax.Compatibility.tri',\n",
        "  'COVID.19.VCI.Contract.via.COVID.19.Vax.tri',\n",
        "  'General.VCI.Vax.Importance.tri',\n",
        "  'General.VCI.Vax.Safety.tri',\n",
        "  'General.VCI.Vax.Efficacy.tri',\n",
        "  'General.VCI.Vax.Compatibility.tri'\n",
        ")"
      ],
      "execution_count": null,
      "outputs": []
    },
    {
      "cell_type": "code",
      "metadata": {
        "colab": {
          "base_uri": "https://localhost:8080/",
          "height": 1000
        },
        "id": "6h10SnOqMlOC",
        "outputId": "53939d5a-d406-4c8c-8c97-cb4c81cecc59"
      },
      "source": [
        "summary(df_us_cleaned)"
      ],
      "execution_count": null,
      "outputs": [
        {
          "data": {
            "text/plain": [
              "       X        Know.anyone.Nobody Know.anyone.Myself\n",
              " Min.   :   0   Min.   :0.0000     Min.   :0.00000   \n",
              " 1st Qu.:1000   1st Qu.:0.0000     1st Qu.:0.00000   \n",
              " Median :2000   Median :1.0000     Median :0.00000   \n",
              " Mean   :2035   Mean   :0.5414     Mean   :0.07298   \n",
              " 3rd Qu.:3001   3rd Qu.:1.0000     3rd Qu.:0.00000   \n",
              " Max.   :4995   Max.   :1.0000     Max.   :1.00000   \n",
              "                                                     \n",
              " Know.anyone.Family.inside.HH Know.anyone.Family.outside.HH\n",
              " Min.   :0.00000              Min.   :0.0000               \n",
              " 1st Qu.:0.00000              1st Qu.:0.0000               \n",
              " Median :0.00000              Median :0.0000               \n",
              " Mean   :0.06423              Mean   :0.1437               \n",
              " 3rd Qu.:0.00000              3rd Qu.:0.0000               \n",
              " Max.   :1.00000              Max.   :1.0000               \n",
              "                                                           \n",
              " Know.anyone.Close.friend Know.anyone.Colleague\n",
              " Min.   :0.000            Min.   :0.0000       \n",
              " 1st Qu.:0.000            1st Qu.:0.0000       \n",
              " Median :0.000            Median :0.0000       \n",
              " Mean   :0.123            Mean   :0.1432       \n",
              " 3rd Qu.:0.000            3rd Qu.:0.0000       \n",
              " Max.   :1.000            Max.   :1.0000       \n",
              "                                               \n",
              " COVID.19.Knowledge.Washing.hands COVID.19.Knowledge.Staying.indoors.for.Self\n",
              " Min.   :-2.000                   Min.   :-2.000                             \n",
              " 1st Qu.: 1.000                   1st Qu.: 1.000                             \n",
              " Median : 2.000                   Median : 2.000                             \n",
              " Mean   : 1.418                   Mean   : 1.272                             \n",
              " 3rd Qu.: 2.000                   3rd Qu.: 2.000                             \n",
              " Max.   : 2.000                   Max.   : 2.000                             \n",
              "                                                                             \n",
              " COVID.19.Knowledge.Staying.indoors.for.Others\n",
              " Min.   :-2.000                               \n",
              " 1st Qu.: 1.000                               \n",
              " Median : 2.000                               \n",
              " Mean   : 1.238                               \n",
              " 3rd Qu.: 2.000                               \n",
              " Max.   : 2.000                               \n",
              "                                              \n",
              " COVID.19.Knowledge.Spread.before.symptoms COVID.19.Knowledge.R.Number\n",
              " Min.   :-2.000                            Min.   :-2.0000            \n",
              " 1st Qu.: 1.000                            1st Qu.: 0.0000            \n",
              " Median : 2.000                            Median : 1.0000            \n",
              " Mean   : 1.297                            Mean   : 0.8988            \n",
              " 3rd Qu.: 2.000                            3rd Qu.: 2.0000            \n",
              " Max.   : 2.000                            Max.   : 2.0000            \n",
              "                                                                      \n",
              " COVID.19.Knowledge.Treatments.already.exist COVID.19.Knowledge.Wearing.masks\n",
              " Min.   :-2.0000                             Min.   :-2.000                  \n",
              " 1st Qu.:-2.0000                             1st Qu.: 1.000                  \n",
              " Median : 0.0000                             Median : 2.000                  \n",
              " Mean   :-0.2184                             Mean   : 1.219                  \n",
              " 3rd Qu.: 1.0000                             3rd Qu.: 2.000                  \n",
              " Max.   : 2.0000                             Max.   : 2.000                  \n",
              "                                                                             \n",
              " COVID.19.VCI.COVID.19.Vax.Importance COVID.19.VCI.COVID.19.Vax.Safety\n",
              " Min.   :-2.000                       Min.   :-2.0000                 \n",
              " 1st Qu.: 1.000                       1st Qu.: 0.0000                 \n",
              " Median : 2.000                       Median : 1.0000                 \n",
              " Mean   : 1.096                       Mean   : 0.7378                 \n",
              " 3rd Qu.: 2.000                       3rd Qu.: 2.0000                 \n",
              " Max.   : 2.000                       Max.   : 2.0000                 \n",
              "                                                                      \n",
              " COVID.19.VCI.COVID.19.Vax.Efficacy COVID.19.VCI.COVID.19.Vax.Compatibility\n",
              " Min.   :-2.0000                    Min.   :-2.0000                        \n",
              " 1st Qu.: 0.0000                    1st Qu.:-1.0000                        \n",
              " Median : 1.0000                    Median : 1.0000                        \n",
              " Mean   : 0.7533                    Mean   : 0.5254                        \n",
              " 3rd Qu.: 2.0000                    3rd Qu.: 2.0000                        \n",
              " Max.   : 2.0000                    Max.   : 2.0000                        \n",
              "                                                                           \n",
              " COVID.19.VCI.Contract.via.COVID.19.Vax\n",
              " Min.   :-2.00000                      \n",
              " 1st Qu.:-1.00000                      \n",
              " Median : 0.00000                      \n",
              " Mean   : 0.05474                      \n",
              " 3rd Qu.: 1.00000                      \n",
              " Max.   : 2.00000                      \n",
              "                                       \n",
              " COVID.19.VCI.COVID.19.Vax.benefits.outweigh.risks General.VCI.Vax.Importance\n",
              " Min.   :-2.0000                                   Min.   :-2.00             \n",
              " 1st Qu.: 0.0000                                   1st Qu.: 1.00             \n",
              " Median : 1.0000                                   Median : 2.00             \n",
              " Mean   : 0.5704                                   Mean   : 1.16             \n",
              " 3rd Qu.: 2.0000                                   3rd Qu.: 2.00             \n",
              " Max.   : 2.0000                                   Max.   : 2.00             \n",
              "                                                                             \n",
              " General.VCI.Vax.Safety General.VCI.Vax.Efficacy General.VCI.Vax.Compatibility\n",
              " Min.   :-2.0000        Min.   :-2.000           Min.   :-2.000               \n",
              " 1st Qu.: 1.0000        1st Qu.: 1.000           1st Qu.: 0.000               \n",
              " Median : 1.0000        Median : 1.000           Median : 1.000               \n",
              " Mean   : 0.9785        Mean   : 1.059           Mean   : 0.981               \n",
              " 3rd Qu.: 2.0000        3rd Qu.: 2.000           3rd Qu.: 2.000               \n",
              " Max.   : 2.0000        Max.   : 2.000           Max.   : 2.000               \n",
              "                                                                              \n",
              " COVID.19.Impact.Mental.health COVID.19.Impact.Financial.stability\n",
              " Min.   :-2.0000               Min.   :-2.0000                    \n",
              " 1st Qu.:-1.0000               1st Qu.:-1.0000                    \n",
              " Median : 1.0000               Median : 1.0000                    \n",
              " Mean   : 0.2774               Mean   : 0.2969                    \n",
              " 3rd Qu.: 2.0000               3rd Qu.: 2.0000                    \n",
              " Max.   : 2.0000               Max.   : 2.0000                    \n",
              "                                                                  \n",
              " COVID.19.Impact.Daily.disruption COVID.19.Impact.Social.disruption\n",
              " Min.   :-2.0000                  Min.   :-2.0000                  \n",
              " 1st Qu.:-1.0000                  1st Qu.: 1.0000                  \n",
              " Median : 1.0000                  Median : 1.0000                  \n",
              " Mean   : 0.6698                  Mean   : 0.9245                  \n",
              " 3rd Qu.: 2.0000                  3rd Qu.: 2.0000                  \n",
              " Max.   : 2.0000                  Max.   : 2.0000                  \n",
              "                                                                   \n",
              " Social.Facebook.used Social.Twitter.used Social.YouTube.used\n",
              " Min.   :0.0000       Min.   :0.0000      Min.   :0.0000     \n",
              " 1st Qu.:0.0000       1st Qu.:0.0000      1st Qu.:0.0000     \n",
              " Median :1.0000       Median :0.0000      Median :1.0000     \n",
              " Mean   :0.7226       Mean   :0.3217      Mean   :0.5661     \n",
              " 3rd Qu.:1.0000       3rd Qu.:1.0000      3rd Qu.:1.0000     \n",
              " Max.   :1.0000       Max.   :1.0000      Max.   :1.0000     \n",
              "                                                             \n",
              " Social.WhatsApp.used Social.Instagram.used Social.Pinterest.used\n",
              " Min.   :0.0000       Min.   :0.0000        Min.   :0.0000       \n",
              " 1st Qu.:0.0000       1st Qu.:0.0000        1st Qu.:0.0000       \n",
              " Median :0.0000       Median :0.0000        Median :0.0000       \n",
              " Mean   :0.2322       Mean   :0.4649        Mean   :0.2622       \n",
              " 3rd Qu.:0.0000       3rd Qu.:1.0000        3rd Qu.:1.0000       \n",
              " Max.   :1.0000       Max.   :1.0000        Max.   :1.0000       \n",
              "                                                                 \n",
              " Social.LinkedIN.used Social.Other.used Social.None.of.these.used\n",
              " Min.   :0.0000       Min.   :0.00000   Min.   :0.00000          \n",
              " 1st Qu.:0.0000       1st Qu.:0.00000   1st Qu.:0.00000          \n",
              " Median :0.0000       Median :0.00000   Median :0.00000          \n",
              " Mean   :0.1535       Mean   :0.03974   Mean   :0.08623          \n",
              " 3rd Qu.:0.0000       3rd Qu.:0.00000   3rd Qu.:0.00000          \n",
              " Max.   :1.0000       Max.   :1.00000   Max.   :1.00000          \n",
              "                                                                 \n",
              " Social.Facebook.to.receive.info Social.Twitter.to.receive.info\n",
              " Min.   :0.0000                  Min.   :0.0000                \n",
              " 1st Qu.:0.0000                  1st Qu.:0.0000                \n",
              " Median :0.0000                  Median :0.0000                \n",
              " Mean   :0.4156                  Mean   :0.1872                \n",
              " 3rd Qu.:1.0000                  3rd Qu.:0.0000                \n",
              " Max.   :1.0000                  Max.   :1.0000                \n",
              "                                                               \n",
              " Social.YouTube.to.receive.info Social.WhatsApp.to.receive.info\n",
              " Min.   :0.0000                 Min.   :0.0000                 \n",
              " 1st Qu.:0.0000                 1st Qu.:0.0000                 \n",
              " Median :0.0000                 Median :0.0000                 \n",
              " Mean   :0.2544                 Mean   :0.1227                 \n",
              " 3rd Qu.:1.0000                 3rd Qu.:0.0000                 \n",
              " Max.   :1.0000                 Max.   :1.0000                 \n",
              "                                                               \n",
              " Social.Instagram.to.receive.info Social.Pinterest.to.receive.info\n",
              " Min.   :0.0000                   Min.   :0.00000                 \n",
              " 1st Qu.:0.0000                   1st Qu.:0.00000                 \n",
              " Median :0.0000                   Median :0.00000                 \n",
              " Mean   :0.2132                   Mean   :0.04999                 \n",
              " 3rd Qu.:0.0000                   3rd Qu.:0.00000                 \n",
              " Max.   :1.0000                   Max.   :1.00000                 \n",
              "                                                                  \n",
              " Social.LinkedIN.to.receive.info Social.Other.to.receive.info\n",
              " Min.   :0.00000                 Min.   :0.00000             \n",
              " 1st Qu.:0.00000                 1st Qu.:0.00000             \n",
              " Median :0.00000                 Median :0.00000             \n",
              " Mean   :0.03974                 Mean   :0.01375             \n",
              " 3rd Qu.:0.00000                 3rd Qu.:0.00000             \n",
              " Max.   :1.00000                 Max.   :1.00000             \n",
              "                                                             \n",
              " Social.None.of.these.to.receive.info Social.Facebook.to.share.info\n",
              " Min.   :0.0000                       Min.   :0.000                \n",
              " 1st Qu.:0.0000                       1st Qu.:0.000                \n",
              " Median :0.0000                       Median :0.000                \n",
              " Mean   :0.3904                       Mean   :0.417                \n",
              " 3rd Qu.:1.0000                       3rd Qu.:1.000                \n",
              " Max.   :1.0000                       Max.   :1.000                \n",
              "                                      NA's   :701                  \n",
              " Social.Twitter.to.share.info Social.YouTube.to.share.info\n",
              " Min.   :0.0000               Min.   :0.0000              \n",
              " 1st Qu.:0.0000               1st Qu.:0.0000              \n",
              " Median :0.0000               Median :0.0000              \n",
              " Mean   :0.1727               Mean   :0.1894              \n",
              " 3rd Qu.:0.0000               3rd Qu.:0.0000              \n",
              " Max.   :1.0000               Max.   :1.0000              \n",
              " NA's   :701                  NA's   :701                 \n",
              " Social.WhatsApp.to.share.info Social.Instagram.to.share.info\n",
              " Min.   :0.0000                Min.   :0.0000                \n",
              " 1st Qu.:0.0000                1st Qu.:0.0000                \n",
              " Median :0.0000                Median :0.0000                \n",
              " Mean   :0.1676                Mean   :0.1976                \n",
              " 3rd Qu.:0.0000                3rd Qu.:0.0000                \n",
              " Max.   :1.0000                Max.   :1.0000                \n",
              " NA's   :701                   NA's   :701                   \n",
              " Social.Pinterest.to.share.info Social.LinkedIN.to.share.info\n",
              " Min.   :0.0000                 Min.   :0.000                \n",
              " 1st Qu.:0.0000                 1st Qu.:0.000                \n",
              " Median :0.0000                 Median :0.000                \n",
              " Mean   :0.0442                 Mean   :0.037                \n",
              " 3rd Qu.:0.0000                 3rd Qu.:0.000                \n",
              " Max.   :1.0000                 Max.   :1.000                \n",
              " NA's   :701                    NA's   :701                  \n",
              " Social.Other.to.share.info Social.None.of.these.to.share.info Trust.Television\n",
              " Min.   :0.0000             Min.   :0.0000                     Min.   :0.0000  \n",
              " 1st Qu.:0.0000             1st Qu.:0.0000                     1st Qu.:0.0000  \n",
              " Median :0.0000             Median :0.0000                     Median :0.0000  \n",
              " Mean   :0.0088             Mean   :0.4215                     Mean   :0.2572  \n",
              " 3rd Qu.:0.0000             3rd Qu.:1.0000                     3rd Qu.:1.0000  \n",
              " Max.   :1.0000             Max.   :1.0000                     Max.   :1.0000  \n",
              " NA's   :701                NA's   :701                                        \n",
              "  Trust.Radio     Trust.Newspapers Trust.White.House.Briefings\n",
              " Min.   :0.0000   Min.   :0.000    Min.   :0.0000             \n",
              " 1st Qu.:0.0000   1st Qu.:0.000    1st Qu.:0.0000             \n",
              " Median :0.0000   Median :0.000    Median :0.0000             \n",
              " Mean   :0.1127   Mean   :0.154    Mean   :0.1685             \n",
              " 3rd Qu.:0.0000   3rd Qu.:0.000    3rd Qu.:0.0000             \n",
              " Max.   :1.0000   Max.   :1.000    Max.   :1.0000             \n",
              "                                                              \n",
              " Trust.State.Govt..Briefings Trust.National.Health.Authorities\n",
              " Min.   :0.0000              Min.   :0.0000                   \n",
              " 1st Qu.:0.0000              1st Qu.:0.0000                   \n",
              " Median :0.0000              Median :0.0000                   \n",
              " Mean   :0.2382              Mean   :0.4444                   \n",
              " 3rd Qu.:0.0000              3rd Qu.:1.0000                   \n",
              " Max.   :1.0000              Max.   :1.0000                   \n",
              "                                                              \n",
              " Trust.International.Health.Authorities Trust.Healthcare.Workers\n",
              " Min.   :0.0000                         Min.   :0.0000          \n",
              " 1st Qu.:0.0000                         1st Qu.:0.0000          \n",
              " Median :0.0000                         Median :1.0000          \n",
              " Mean   :0.3314                         Mean   :0.5164          \n",
              " 3rd Qu.:1.0000                         3rd Qu.:1.0000          \n",
              " Max.   :1.0000                         Max.   :1.0000          \n",
              "                                                                \n",
              " Trust.Scientists Trust.Govt..Websites Trust.Social.Media Trust.Celebrities\n",
              " Min.   :0.0000   Min.   :0.000        Min.   :0.0000     Min.   :0.00000  \n",
              " 1st Qu.:0.0000   1st Qu.:0.000        1st Qu.:0.0000     1st Qu.:0.00000  \n",
              " Median :0.0000   Median :0.000        Median :0.0000     Median :0.00000  \n",
              " Mean   :0.4171   Mean   :0.181        Mean   :0.1372     Mean   :0.04749  \n",
              " 3rd Qu.:1.0000   3rd Qu.:0.000        3rd Qu.:0.0000     3rd Qu.:0.00000  \n",
              " Max.   :1.0000   Max.   :1.000        Max.   :1.0000     Max.   :1.00000  \n",
              "                                                                           \n",
              " Trust.Search.Engines Trust.Family.and.friends Trust.Work.Guidelines\n",
              " Min.   :0.0000       Min.   :0.000            Min.   :0.00000      \n",
              " 1st Qu.:0.0000       1st Qu.:0.000            1st Qu.:0.00000      \n",
              " Median :0.0000       Median :0.000            Median :0.00000      \n",
              " Mean   :0.1687       Mean   :0.171            Mean   :0.09823      \n",
              " 3rd Qu.:0.0000       3rd Qu.:0.000            3rd Qu.:0.00000      \n",
              " Max.   :1.0000       Max.   :1.000            Max.   :1.00000      \n",
              "                                                                    \n",
              "  Trust.Other    Trust.None.of.these Reason.Unsure.if.safe\n",
              " Min.   :0.000   Min.   :0.0000      Min.   :0.0000       \n",
              " 1st Qu.:0.000   1st Qu.:0.0000      1st Qu.:0.0000       \n",
              " Median :0.000   Median :0.0000      Median :0.0000       \n",
              " Mean   :0.013   Mean   :0.1025      Mean   :0.4889       \n",
              " 3rd Qu.:0.000   3rd Qu.:0.0000      3rd Qu.:1.0000       \n",
              " Max.   :1.000   Max.   :1.0000      Max.   :1.0000       \n",
              "                                     NA's   :1704         \n",
              " Reason.Unsure.if.effective Reason.Not.at.risk Reason.Wait.until.others\n",
              " Min.   :0.0000             Min.   :0.0000     Min.   :0.0000          \n",
              " 1st Qu.:0.0000             1st Qu.:0.0000     1st Qu.:0.0000          \n",
              " Median :0.0000             Median :0.0000     Median :0.0000          \n",
              " Mean   :0.3892             Mean   :0.0892     Mean   :0.3139          \n",
              " 3rd Qu.:1.0000             3rd Qu.:0.0000     3rd Qu.:1.0000          \n",
              " Max.   :1.0000             Max.   :1.0000     Max.   :1.0000          \n",
              " NA's   :1704               NA's   :1704       NA's   :1704            \n",
              " Reason.Won.t.be.ill Reason.Other.effective.treatments\n",
              " Min.   :0.0000      Min.   :0.0000                   \n",
              " 1st Qu.:0.0000      1st Qu.:0.0000                   \n",
              " Median :0.0000      Median :0.0000                   \n",
              " Mean   :0.0945      Mean   :0.0927                   \n",
              " 3rd Qu.:0.0000      3rd Qu.:0.0000                   \n",
              " Max.   :1.0000      Max.   :1.0000                   \n",
              " NA's   :1704        NA's   :1704                     \n",
              " Reason.Already.acquired.immunity Reason.Approval.may.be.rushed\n",
              " Min.   :0.0000                   Min.   :0.000                \n",
              " 1st Qu.:0.0000                   1st Qu.:0.000                \n",
              " Median :0.0000                   Median :0.000                \n",
              " Mean   :0.0797                   Mean   :0.394                \n",
              " 3rd Qu.:0.0000                   3rd Qu.:1.000                \n",
              " Max.   :1.0000                   Max.   :1.000                \n",
              " NA's   :1704                     NA's   :1704                 \n",
              "  Reason.Other    Reason.Do.not.know PostReason.Unsure.if.safe\n",
              " Min.   :0.0000   Min.   :0.000      Min.   :0.0000           \n",
              " 1st Qu.:0.0000   1st Qu.:0.000      1st Qu.:0.0000           \n",
              " Median :0.0000   Median :0.000      Median :1.0000           \n",
              " Mean   :0.0566   Mean   :0.108      Mean   :0.6449           \n",
              " 3rd Qu.:0.0000   3rd Qu.:0.000      3rd Qu.:1.0000           \n",
              " Max.   :1.0000   Max.   :1.000      Max.   :1.0000           \n",
              " NA's   :1704     NA's   :1704       NA's   :2320             \n",
              " PostReason.Unsure.if.effective PostReason.Not.at.risk\n",
              " Min.   :0.0000                 Min.   :0.0000        \n",
              " 1st Qu.:0.0000                 1st Qu.:0.0000        \n",
              " Median :1.0000                 Median :0.0000        \n",
              " Mean   :0.5045                 Mean   :0.0988        \n",
              " 3rd Qu.:1.0000                 3rd Qu.:0.0000        \n",
              " Max.   :1.0000                 Max.   :1.0000        \n",
              " NA's   :2320                   NA's   :2320          \n",
              " PostReason.Wait.until.others PostReason.Won.t.be.ill\n",
              " Min.   :0.0000               Min.   :0.0000         \n",
              " 1st Qu.:0.0000               1st Qu.:0.0000         \n",
              " Median :0.0000               Median :0.0000         \n",
              " Mean   :0.3778               Mean   :0.0744         \n",
              " 3rd Qu.:1.0000               3rd Qu.:0.0000         \n",
              " Max.   :1.0000               Max.   :1.0000         \n",
              " NA's   :2320                 NA's   :2320           \n",
              " PostReason.Other.effective.treatments PostReason.Already.acquired.immunity\n",
              " Min.   :0.0000                        Min.   :0.000                       \n",
              " 1st Qu.:0.0000                        1st Qu.:0.000                       \n",
              " Median :0.0000                        Median :0.000                       \n",
              " Mean   :0.1101                        Mean   :0.066                       \n",
              " 3rd Qu.:0.0000                        3rd Qu.:0.000                       \n",
              " Max.   :1.0000                        Max.   :1.000                       \n",
              " NA's   :2320                          NA's   :2320                        \n",
              " PostReason.Approval.may.be.rushed PostReason.Other PostReason.Do.not.know\n",
              " Min.   :0.0000                    Min.   :0.0000   Min.   :0.0000        \n",
              " 1st Qu.:0.0000                    1st Qu.:0.0000   1st Qu.:0.0000        \n",
              " Median :0.0000                    Median :0.0000   Median :0.0000        \n",
              " Mean   :0.3992                    Mean   :0.0345   Mean   :0.0571        \n",
              " 3rd Qu.:1.0000                    3rd Qu.:0.0000   3rd Qu.:0.0000        \n",
              " Max.   :1.0000                    Max.   :1.0000   Max.   :1.0000        \n",
              " NA's   :2320                      NA's   :2320     NA's   :2320          \n",
              " Image.1.Vaccine.Intent Image.1.Agreement Image.1.Trust      Image.1.Fact.check\n",
              " Min.   :-2.0000        Min.   :-2.000    Min.   :-2.00000   Min.   :-2.0000   \n",
              " 1st Qu.: 0.0000        1st Qu.: 0.000    1st Qu.:-1.00000   1st Qu.: 0.0000   \n",
              " Median : 0.0000        Median : 0.000    Median : 0.00000   Median : 1.0000   \n",
              " Mean   : 0.2789        Mean   : 0.155    Mean   : 0.05924   Mean   : 0.7593   \n",
              " 3rd Qu.: 1.0000        3rd Qu.: 1.000    3rd Qu.: 1.00000   3rd Qu.: 2.0000   \n",
              " Max.   : 2.0000        Max.   : 2.000    Max.   : 2.00000   Max.   : 2.0000   \n",
              "                                                                               \n",
              " Image.1.Share     Image.2.Vaccine.Intent Image.2.Agreement  \n",
              " Min.   :-2.0000   Min.   :-2.0000        Min.   :-2.000000  \n",
              " 1st Qu.:-2.0000   1st Qu.: 0.0000        1st Qu.:-1.000000  \n",
              " Median : 0.0000   Median : 0.0000        Median : 0.000000  \n",
              " Mean   :-0.1535   Mean   : 0.2547        Mean   : 0.009498  \n",
              " 3rd Qu.: 1.0000   3rd Qu.: 1.0000        3rd Qu.: 1.000000  \n",
              " Max.   : 2.0000   Max.   : 2.0000        Max.   : 2.000000  \n",
              "                                                             \n",
              " Image.2.Trust      Image.2.Fact.check Image.2.Share     Image.3.Vaccine.Intent\n",
              " Min.   :-2.00000   Min.   :-2.0000    Min.   :-2.0000   Min.   :-2.0000       \n",
              " 1st Qu.:-1.00000   1st Qu.: 0.0000    1st Qu.:-2.0000   1st Qu.: 0.0000       \n",
              " Median : 0.00000   Median : 0.0000    Median : 0.0000   Median : 0.0000       \n",
              " Mean   :-0.09997   Mean   : 0.4296    Mean   :-0.2797   Mean   : 0.1842       \n",
              " 3rd Qu.: 1.00000   3rd Qu.: 2.0000    3rd Qu.: 1.0000   3rd Qu.: 1.0000       \n",
              " Max.   : 2.00000   Max.   : 2.0000    Max.   : 2.0000   Max.   : 2.0000       \n",
              "                                                                               \n",
              " Image.3.Agreement Image.3.Trust     Image.3.Fact.check Image.3.Share    \n",
              " Min.   :-2.0000   Min.   :-2.0000   Min.   :-2.0000    Min.   :-2.0000  \n",
              " 1st Qu.: 0.0000   1st Qu.:-1.0000   1st Qu.: 0.0000    1st Qu.:-2.0000  \n",
              " Median : 0.0000   Median : 0.0000   Median : 1.0000    Median : 0.0000  \n",
              " Mean   : 0.1497   Mean   : 0.1052   Mean   : 0.5309    Mean   :-0.1882  \n",
              " 3rd Qu.: 1.0000   3rd Qu.: 1.0000   3rd Qu.: 2.0000    3rd Qu.: 1.0000  \n",
              " Max.   : 2.0000   Max.   : 2.0000   Max.   : 2.0000    Max.   : 2.0000  \n",
              "                                                                         \n",
              " Image.4.Vaccine.Intent Image.4.Agreement  Image.4.Trust     \n",
              " Min.   :-2.0000        Min.   :-2.00000   Min.   :-2.00000  \n",
              " 1st Qu.: 0.0000        1st Qu.:-1.00000   1st Qu.:-1.00000  \n",
              " Median : 0.0000        Median : 0.00000   Median : 0.00000  \n",
              " Mean   : 0.2152        Mean   : 0.03474   Mean   :-0.06323  \n",
              " 3rd Qu.: 1.0000        3rd Qu.: 1.00000   3rd Qu.: 1.00000  \n",
              " Max.   : 2.0000        Max.   : 2.00000   Max.   : 2.00000  \n",
              "                                                             \n",
              " Image.4.Fact.check Image.4.Share     Image.5.Vaccine.Intent Image.5.Agreement \n",
              " Min.   :-2.0000    Min.   :-2.0000   Min.   :-2.0000        Min.   :-2.00000  \n",
              " 1st Qu.: 0.0000    1st Qu.:-2.0000   1st Qu.: 0.0000        1st Qu.:-1.00000  \n",
              " Median : 1.0000    Median : 0.0000   Median : 0.0000        Median : 0.00000  \n",
              " Mean   : 0.5091    Mean   :-0.2392   Mean   : 0.2647        Mean   : 0.03974  \n",
              " 3rd Qu.: 2.0000    3rd Qu.: 1.0000   3rd Qu.: 1.0000        3rd Qu.: 1.00000  \n",
              " Max.   : 2.0000    Max.   : 2.0000   Max.   : 2.0000        Max.   : 2.00000  \n",
              "                                                                               \n",
              " Image.5.Trust      Image.5.Fact.check Image.5.Share       Shielding     \n",
              " Min.   :-2.00000   Min.   :-2.0000    Min.   :-2.0000   Min.   :0.0000  \n",
              " 1st Qu.:-1.00000   1st Qu.: 0.0000    1st Qu.:-2.0000   1st Qu.:0.0000  \n",
              " Median : 0.00000   Median : 0.0000    Median : 0.0000   Median :1.0000  \n",
              " Mean   :-0.03249   Mean   : 0.4439    Mean   :-0.2362   Mean   :0.5176  \n",
              " 3rd Qu.: 1.00000   3rd Qu.: 2.0000    3rd Qu.: 1.0000   3rd Qu.:1.0000  \n",
              " Max.   : 2.00000   Max.   : 2.0000    Max.   : 2.0000   Max.   :1.0000  \n",
              "                                                                         \n",
              " Social.media.usage Expected.vax.availability Seen.such.online.content\n",
              " Min.   :1.000      Min.   :1.000             Min.   :1.00            \n",
              " 1st Qu.:2.000      1st Qu.:3.000             1st Qu.:1.00            \n",
              " Median :4.000      Median :4.000             Median :2.00            \n",
              " Mean   :3.989      Mean   :4.362             Mean   :1.72            \n",
              " 3rd Qu.:6.000      3rd Qu.:6.000             3rd Qu.:2.00            \n",
              " Max.   :7.000      Max.   :8.000             Max.   :3.00            \n",
              "                                                                      \n",
              " Frequency.of.such.online.content Engaged.with.such.online.content\n",
              " Min.   :1.000                    Min.   :1.000                   \n",
              " 1st Qu.:1.000                    1st Qu.:1.000                   \n",
              " Median :2.000                    Median :1.000                   \n",
              " Mean   :2.133                    Mean   :1.456                   \n",
              " 3rd Qu.:3.000                    3rd Qu.:2.000                   \n",
              " Max.   :6.000                    Max.   :3.000                   \n",
              " NA's   :2535                     NA's   :2535                    \n",
              " Vaccine.Intent.for.self..Pre. Vaccine.Intent.for.self..Post.\n",
              " Min.   :1.000                 Min.   :1.000                 \n",
              " 1st Qu.:1.000                 1st Qu.:1.000                 \n",
              " Median :2.000                 Median :2.000                 \n",
              " Mean   :1.998                 Mean   :2.067                 \n",
              " 3rd Qu.:3.000                 3rd Qu.:3.000                 \n",
              " Max.   :4.000                 Max.   :4.000                 \n",
              "                                                             \n",
              " Vaccine.Intent.for.others..Pre. Vaccine.Intent.for.others..Post.\n",
              " Min.   :1.000                   Min.   :1.000                   \n",
              " 1st Qu.:1.000                   1st Qu.:1.000                   \n",
              " Median :1.000                   Median :2.000                   \n",
              " Mean   :1.806                   Mean   :1.945                   \n",
              " 3rd Qu.:2.000                   3rd Qu.:3.000                   \n",
              " Max.   :4.000                   Max.   :4.000                   \n",
              "                                                                 \n",
              "      Age           Gender       Education       Employment       Religion    \n",
              " Min.   :1.00   Min.   :1.00   Min.   :1.000   Min.   :1.000   Min.   :1.000  \n",
              " 1st Qu.:2.00   1st Qu.:1.00   1st Qu.:2.000   1st Qu.:1.000   1st Qu.:1.000  \n",
              " Median :4.00   Median :2.00   Median :3.000   Median :1.000   Median :1.000  \n",
              " Mean   :3.67   Mean   :1.57   Mean   :3.387   Mean   :2.267   Mean   :2.302  \n",
              " 3rd Qu.:5.00   3rd Qu.:2.00   3rd Qu.:5.000   3rd Qu.:4.000   3rd Qu.:4.000  \n",
              " Max.   :6.00   Max.   :3.00   Max.   :6.000   Max.   :5.000   Max.   :5.000  \n",
              "                                                                              \n",
              "   Political       Ethnicity        Income         Region         \n",
              " Min.   :1.000   Min.   :1.00   Min.   :1.000   Length:4001       \n",
              " 1st Qu.:1.000   1st Qu.:1.00   1st Qu.:2.000   Class :character  \n",
              " Median :2.000   Median :1.00   Median :3.000   Mode  :character  \n",
              " Mean   :2.008   Mean   :1.76   Mean   :3.312                     \n",
              " 3rd Qu.:3.000   3rd Qu.:2.00   3rd Qu.:5.000                     \n",
              " Max.   :3.000   Max.   :5.00   Max.   :6.000                     \n",
              "                                                                  \n",
              "   Treatment            z              inv_z        know.anyone.covid\n",
              " Min.   :0.0000   Min.   :0.0000   Min.   :0.0000   Min.   :0.0000   \n",
              " 1st Qu.:1.0000   1st Qu.:1.0000   1st Qu.:0.0000   1st Qu.:0.0000   \n",
              " Median :1.0000   Median :1.0000   Median :0.0000   Median :0.0000   \n",
              " Mean   :0.7501   Mean   :0.7501   Mean   :0.2499   Mean   :0.4586   \n",
              " 3rd Qu.:1.0000   3rd Qu.:1.0000   3rd Qu.:0.0000   3rd Qu.:1.0000   \n",
              " Max.   :1.0000   Max.   :1.0000   Max.   :1.0000   Max.   :1.0000   \n",
              "                                                                     \n",
              " covid_knowledge_avg bad_covid_knowledge covid_vax_trust_avg\n",
              " Min.   :-2.000      Min.   :0.00000     Min.   :-2.0000    \n",
              " 1st Qu.: 1.000      1st Qu.:0.00000     1st Qu.: 0.1667    \n",
              " Median : 1.600      Median :0.00000     Median : 0.6667    \n",
              " Mean   : 1.289      Mean   :0.09648     Mean   : 0.6230    \n",
              " 3rd Qu.: 2.000      3rd Qu.:0.00000     3rd Qu.: 1.1667    \n",
              " Max.   : 2.000      Max.   :1.00000     Max.   : 2.0000    \n",
              "                                                            \n",
              " bad_covid_vax_trust general_vax_trust_avg bad_general_vax_trust\n",
              " Min.   :0.0000      Min.   :-2.000        Min.   :0.000        \n",
              " 1st Qu.:0.0000      1st Qu.: 0.500        1st Qu.:0.000        \n",
              " Median :0.0000      Median : 1.250        Median :0.000        \n",
              " Mean   :0.1695      Mean   : 1.045        Mean   :0.134        \n",
              " 3rd Qu.:0.0000      3rd Qu.: 2.000        3rd Qu.:0.000        \n",
              " Max.   :1.0000      Max.   : 2.000        Max.   :1.000        \n",
              "                                                                \n",
              " covid_disrupt    COVID.19.Knowledge.Washing.hands.tri\n",
              " Min.   :0.0000   Min.   :-1.000                      \n",
              " 1st Qu.:0.0000   1st Qu.: 1.000                      \n",
              " Median :1.0000   Median : 1.000                      \n",
              " Mean   :0.6368   Mean   : 0.802                      \n",
              " 3rd Qu.:1.0000   3rd Qu.: 1.000                      \n",
              " Max.   :1.0000   Max.   : 1.000                      \n",
              "                                                      \n",
              " COVID.19.Knowledge.Staying.indoors.for.Self.tri\n",
              " Min.   :-1.0000                                \n",
              " 1st Qu.: 1.0000                                \n",
              " Median : 1.0000                                \n",
              " Mean   : 0.7243                                \n",
              " 3rd Qu.: 1.0000                                \n",
              " Max.   : 1.0000                                \n",
              "                                                \n",
              " COVID.19.Knowledge.Staying.indoors.for.Others.tri\n",
              " Min.   :-1.0000                                  \n",
              " 1st Qu.: 1.0000                                  \n",
              " Median : 1.0000                                  \n",
              " Mean   : 0.7038                                  \n",
              " 3rd Qu.: 1.0000                                  \n",
              " Max.   : 1.0000                                  \n",
              "                                                  \n",
              " COVID.19.Knowledge.Spread.before.symptoms.tri\n",
              " Min.   :-1.0000                              \n",
              " 1st Qu.: 1.0000                              \n",
              " Median : 1.0000                              \n",
              " Mean   : 0.7433                              \n",
              " 3rd Qu.: 1.0000                              \n",
              " Max.   : 1.0000                              \n",
              "                                              \n",
              " COVID.19.Knowledge.Wearing.masks.tri COVID.19.VCI.COVID.19.Vax.Importance.tri\n",
              " Min.   :-1.0000                      Min.   :-1.0000                         \n",
              " 1st Qu.: 1.0000                      1st Qu.: 1.0000                         \n",
              " Median : 1.0000                      Median : 1.0000                         \n",
              " Mean   : 0.6798                      Mean   : 0.6258                         \n",
              " 3rd Qu.: 1.0000                      3rd Qu.: 1.0000                         \n",
              " Max.   : 1.0000                      Max.   : 1.0000                         \n",
              "                                                                              \n",
              " COVID.19.VCI.COVID.19.Vax.Safety.tri COVID.19.VCI.COVID.19.Vax.Efficacy.tri\n",
              " Min.   :-1.0000                      Min.   :-1.0000                       \n",
              " 1st Qu.: 0.0000                      1st Qu.: 0.0000                       \n",
              " Median : 1.0000                      Median : 1.0000                       \n",
              " Mean   : 0.4541                      Mean   : 0.4814                       \n",
              " 3rd Qu.: 1.0000                      3rd Qu.: 1.0000                       \n",
              " Max.   : 1.0000                      Max.   : 1.0000                       \n",
              "                                                                            \n",
              " COVID.19.VCI.COVID.19.Vax.benefits.outweigh.risks.tri\n",
              " Min.   :-1.0000                                      \n",
              " 1st Qu.: 0.0000                                      \n",
              " Median : 1.0000                                      \n",
              " Mean   : 0.3644                                      \n",
              " 3rd Qu.: 1.0000                                      \n",
              " Max.   : 1.0000                                      \n",
              "                                                      \n",
              " COVID.19.VCI.COVID.19.Vax.Compatibility.tri\n",
              " Min.   :-1.0000                            \n",
              " 1st Qu.:-1.0000                            \n",
              " Median : 1.0000                            \n",
              " Mean   : 0.2639                            \n",
              " 3rd Qu.: 1.0000                            \n",
              " Max.   : 1.0000                            \n",
              "                                            \n",
              " COVID.19.VCI.Contract.via.COVID.19.Vax.tri General.VCI.Vax.Importance.tri\n",
              " Min.   :-1.00000                           Min.   :-1.0000               \n",
              " 1st Qu.:-1.00000                           1st Qu.: 1.0000               \n",
              " Median : 0.00000                           Median : 1.0000               \n",
              " Mean   : 0.02624                           Mean   : 0.6738               \n",
              " 3rd Qu.: 1.00000                           3rd Qu.: 1.0000               \n",
              " Max.   : 1.00000                           Max.   : 1.0000               \n",
              "                                                                          \n",
              " General.VCI.Vax.Safety.tri General.VCI.Vax.Efficacy.tri\n",
              " Min.   :-1.0000            Min.   :-1.0000             \n",
              " 1st Qu.: 1.0000            1st Qu.: 1.0000             \n",
              " Median : 1.0000            Median : 1.0000             \n",
              " Mean   : 0.5991            Mean   : 0.6493             \n",
              " 3rd Qu.: 1.0000            3rd Qu.: 1.0000             \n",
              " Max.   : 1.0000            Max.   : 1.0000             \n",
              "                                                        \n",
              " General.VCI.Vax.Compatibility.tri Vaccine.Intent.for.self..Decrease\n",
              " Min.   :-1.0000                   Mode :logical                    \n",
              " 1st Qu.: 0.0000                   FALSE:3427                       \n",
              " Median : 1.0000                   TRUE :574                        \n",
              " Mean   : 0.5776                                                    \n",
              " 3rd Qu.: 1.0000                                                    \n",
              " Max.   : 1.0000                                                    \n",
              "                                                                    \n",
              " Vaccine.Intent.for.others..Decrease pre_vaccine_no_intent Image.NumAgree \n",
              " Mode :logical                       Mode :logical         Min.   :0.000  \n",
              " FALSE:3380                          FALSE:3401            1st Qu.:0.000  \n",
              " TRUE :621                           TRUE :600             Median :1.000  \n",
              "                                                           Mean   :1.656  \n",
              "                                                           3rd Qu.:3.000  \n",
              "                                                           Max.   :5.000  \n",
              "                                                                          \n",
              " Image.NumDontKnow Image.NumDisagree NumMisinfoBelief MisinfoBeliever\n",
              " Min.   :0.000     Min.   :0.000     Min.   :0.000    Mode :logical  \n",
              " 1st Qu.:0.000     1st Qu.:0.000     1st Qu.:0.000    FALSE:2880     \n",
              " Median :1.000     Median :0.000     Median :0.000    TRUE :1121     \n",
              " Mean   :1.884     Mean   :1.284     Mean   :1.148                   \n",
              " 3rd Qu.:4.000     3rd Qu.:2.000     3rd Qu.:2.000                   \n",
              " Max.   :5.000     Max.   :5.000     Max.   :5.000                   \n",
              "                                                                     \n",
              " Image.NumShare  Image.NumNotShare NumMisinfoShare MisinfoShare   \n",
              " Min.   :0.000   Min.   :0.000     Min.   :0.000   Mode :logical  \n",
              " 1st Qu.:0.000   1st Qu.:0.000     1st Qu.:0.000   FALSE:2652     \n",
              " Median :0.000   Median :1.000     Median :0.000   TRUE :1349     \n",
              " Mean   :1.599   Mean   :2.007     Mean   :1.396                  \n",
              " 3rd Qu.:3.000   3rd Qu.:4.000     3rd Qu.:3.000                  \n",
              " Max.   :5.000   Max.   :5.000     Max.   :5.000                  \n",
              "                                                                  \n",
              " Image.NumTrust  Image.NumNotTrust NumMisinfoTrust MisinfoTrust   \n",
              " Min.   :0.000   Min.   :0.000     Min.   :0.000   Mode :logical  \n",
              " 1st Qu.:0.000   1st Qu.:0.000     1st Qu.:0.000   FALSE:2905     \n",
              " Median :1.000   Median :1.000     Median :0.000   TRUE :1096     \n",
              " Mean   :1.627   Mean   :1.489     Mean   :1.124                  \n",
              " 3rd Qu.:3.000   3rd Qu.:3.000     3rd Qu.:2.000                  \n",
              " Max.   :5.000   Max.   :5.000     Max.   :5.000                  \n",
              "                                                                  "
            ]
          },
          "metadata": {},
          "output_type": "display_data"
        }
      ]
    },
    {
      "cell_type": "markdown",
      "metadata": {
        "id": "U-DktyFMNyb3"
      },
      "source": [
        "# Imbalance"
      ]
    },
    {
      "cell_type": "markdown",
      "metadata": {
        "id": "ZHv8g3F_N13P"
      },
      "source": [
        "## Mahalanobis Distance FRT"
      ]
    },
    {
      "cell_type": "code",
      "metadata": {
        "id": "QPHdXALpNv_A"
      },
      "source": [
        "computeMahalanobis <- function(treatment.data, control.data) {\n",
        "  total.data <- rbind(treatment.data, control.data)\n",
        "  mean.treatment <- as.vector(colMeans(treatment.data))\n",
        "  mean.control <- as.vector(colMeans(control.data))\n",
        "  result <- mahalanobis(mean.treatment, mean.control, cov = cov(total.data))\n",
        "  \n",
        "  return(result)\n",
        "}\n",
        "\n",
        "simulate <- function(data) {\n",
        "  # Build Random Vector\n",
        "  data$random <- sample(data$z, replace=F, size=nrow(data))\n",
        "  \n",
        "  # Filter dataframes\n",
        "  treatment_data = filter(data, random == 1)\n",
        "  control_data = filter(data, random == 0)\n",
        "  \n",
        "  # Only select the relevant covariates\n",
        "  treatment_data = treatment_data[, final_covariates]\n",
        "  control_data = control_data[, final_covariates]\n",
        "  \n",
        "  distance <- computeMahalanobis(treatment_data, control_data)\n",
        "  \n",
        "  return(distance)\n",
        "}\n",
        "\n",
        "overall_mahal_sim <- c()\n",
        "\n",
        "for(i in 1:10000) {\n",
        "  overall_mahal_sim[i] <- simulate(df_us_cleaned)\n",
        "}"
      ],
      "execution_count": null,
      "outputs": []
    },
    {
      "cell_type": "code",
      "metadata": {
        "id": "mybMkSke1KwL",
        "colab": {
          "base_uri": "https://localhost:8080/",
          "height": 437
        },
        "outputId": "3a9fa605-77b9-4a2a-e029-54a1454f92a3"
      },
      "source": [
        "orig_study_mahal <-\n",
        "  computeMahalanobis(filter(df_us_cleaned, z == 1)[, final_covariates], filter(df_us_cleaned, z == 0)[, final_covariates])\n",
        "mahal_p_val <- mean(overall_mahal_sim > orig_study_mahal)\n",
        "\n",
        "hist(overall_mahal_sim,\n",
        "     main = 'Monte Carlo Sim of Mahalanobis Distance',\n",
        "     xlab = 'Mahalanobis Distance')\n",
        "abline(v = orig_study_mahal, lty = 2)"
      ],
      "execution_count": null,
      "outputs": [
        {
          "output_type": "display_data",
          "data": {
            "image/png": "[encoded data removed]",
            "text/plain": [
              "Plot with title “Monte Carlo Sim of Mahalanobis Distance”"
            ]
          },
          "metadata": {
            "image/png": {
              "width": 420,
              "height": 420
            }
          }
        }
      ]
    },
    {
      "cell_type": "code",
      "metadata": {
        "colab": {
          "base_uri": "https://localhost:8080/",
          "height": 52
        },
        "id": "T9HMnH-d7xIi",
        "outputId": "798c8eaf-5365-42df-f6d1-f3170a7bf164"
      },
      "source": [
        "orig_study_mahal\n",
        "mahal_p_val"
      ],
      "execution_count": null,
      "outputs": [
        {
          "output_type": "display_data",
          "data": {
            "text/plain": [
              "[1] 0.4159985"
            ],
            "text/latex": "0.415998496263431",
            "text/markdown": "0.415998496263431",
            "text/html": [
              "0.415998496263431"
            ]
          },
          "metadata": {}
        },
        {
          "output_type": "display_data",
          "data": {
            "text/plain": [
              "[1] 0"
            ],
            "text/latex": "0",
            "text/markdown": "0",
            "text/html": [
              "0"
            ]
          },
          "metadata": {}
        }
      ]
    },
    {
      "cell_type": "markdown",
      "metadata": {
        "id": "9NBhm4G7ORdo"
      },
      "source": [
        "## Visualizing the Imbalance"
      ]
    },
    {
      "cell_type": "markdown",
      "metadata": {
        "id": "yCiEbnLvImMb"
      },
      "source": [
        "### Propensity Score"
      ]
    },
    {
      "cell_type": "code",
      "metadata": {
        "colab": {
          "base_uri": "https://localhost:8080/",
          "height": 104
        },
        "id": "oIEJ0ssDI3Uj",
        "outputId": "be6da4f9-389d-4fde-be8e-44e27674ff3b"
      },
      "source": [
        "df_us_cleaned$prop2  <-\n",
        "  glm(as.formula(paste(\"z ~\", paste(\n",
        "    final_covariates, collapse = \" + \"\n",
        "  ))),\n",
        "  family = binomial(link = \"logit\"),\n",
        "  data = df_us_cleaned)$fitted.values\n",
        "\n",
        "auc(df_us_cleaned$z, df_us_cleaned$prop2)"
      ],
      "execution_count": null,
      "outputs": [
        {
          "output_type": "stream",
          "name": "stderr",
          "text": [
            "Setting levels: control = 0, case = 1\n",
            "\n",
            "Setting direction: controls < cases\n",
            "\n"
          ]
        },
        {
          "output_type": "display_data",
          "data": {
            "text/plain": [
              "Area under the curve: 0.687"
            ],
            "text/latex": "0.687015994668444",
            "text/markdown": "0.687015994668444",
            "text/html": [
              "0.687015994668444"
            ]
          },
          "metadata": {}
        }
      ]
    },
    {
      "cell_type": "code",
      "metadata": {
        "colab": {
          "base_uri": "https://localhost:8080/",
          "height": 437
        },
        "id": "J2MJVrEiJDrs",
        "outputId": "66752ed1-566d-44b5-953d-276bcfe30cec"
      },
      "source": [
        "df_us_cleaned %>%\n",
        "  mutate(Treatment = as.factor(Treatment)) %>% \n",
        "  ggplot(aes(x = prop2, fill = Treatment)) +\n",
        "  geom_density(alpha=0.6) +\n",
        "  scale_fill_manual(values = c(\"blue\",\"red\")) +\n",
        "  ggtitle('Imbalance of Propensity Scores')"
      ],
      "execution_count": null,
      "outputs": [
        {
          "output_type": "display_data",
          "data": {
            "image/png": "[encoded data removed]",
            "text/plain": [
              "plot without title"
            ]
          },
          "metadata": {
            "image/png": {
              "width": 420,
              "height": 420
            }
          }
        }
      ]
    },
    {
      "cell_type": "markdown",
      "metadata": {
        "id": "icKwDwKuN5fY"
      },
      "source": [
        "### Matching Plots"
      ]
    },
    {
      "cell_type": "code",
      "metadata": {
        "colab": {
          "base_uri": "https://localhost:8080/",
          "height": 437
        },
        "id": "KpmKTHsOjG1S",
        "outputId": "f96e0427-9d8f-4b24-b8cb-6478081095b5"
      },
      "source": [
        "plot(\n",
        "  xBalance(\n",
        "    as.formula(paste(\"Treatment ~\", paste(final_covariates, collapse = \" + \"))),\n",
        "    data = df_us_cleaned\n",
        "  ),\n",
        "  main=\"US Control vs Treatment\"\n",
        ")"
      ],
      "execution_count": null,
      "outputs": [
        {
          "data": {
            "image/png": "[encoded data removed]",
            "text/plain": [
              "Plot with title “US Control vs Treatment”"
            ]
          },
          "metadata": {
            "image/png": {
              "height": 420,
              "width": 420
            }
          },
          "output_type": "display_data"
        }
      ]
    },
    {
      "cell_type": "markdown",
      "metadata": {
        "id": "T0oCnldcN_Gz"
      },
      "source": [
        "## Individual Covariate T-Tests"
      ]
    },
    {
      "cell_type": "code",
      "metadata": {
        "colab": {
          "base_uri": "https://localhost:8080/",
          "height": 537
        },
        "id": "INehN9scOElq",
        "outputId": "833c9fd8-3de4-4f4b-8019-bce93aa0f1c2"
      },
      "source": [
        "df_us_cleaned.long <-\n",
        "  select_if(df_us_cleaned[, c('z', final_covariates)], is.numeric)   %>%\n",
        "  pivot_longer(-z, names_to = \"variables\", values_to = \"value\")\n",
        "\n",
        "stat.test <- df_us_cleaned.long %>%\n",
        "  group_by(variables) %>%\n",
        "  t_test(value ~ z) %>%\n",
        "  adjust_pvalue(method = \"bonferroni\") %>%\n",
        "  add_significance()\n",
        "\n",
        "stat.test[, c('variables', 'statistic', 'p.adj', 'p.adj.signif')] %>% \n",
        "  arrange(p.adj)"
      ],
      "execution_count": null,
      "outputs": [
        {
          "output_type": "display_data",
          "data": {
            "text/plain": [
              "   variables             statistic   p.adj      p.adj.signif\n",
              "1  Age                   -17.2654778 1.3370e-60 ****        \n",
              "2  Employment             -8.7647881 5.5300e-17 ****        \n",
              "3  Ethnicity               4.9574744 1.1074e-05 ****        \n",
              "4  covid_disrupt           4.4650867 1.1900e-04 ***         \n",
              "5  Gender                 -3.7735170 2.3240e-03 **          \n",
              "6  bad_covid_knowledge    -2.7140540 9.3940e-02 ns          \n",
              "7  Education               2.0158926 6.1600e-01 ns          \n",
              "8  Religion                1.9627419 6.9720e-01 ns          \n",
              "9  bad_covid_vax_trust    -1.8518380 8.9880e-01 ns          \n",
              "10 bad_general_vax_trust  -1.4297878 1.0000e+00 ns          \n",
              "11 Income                  0.3340919 1.0000e+00 ns          \n",
              "12 know.anyone.covid       1.5623138 1.0000e+00 ns          \n",
              "13 Political               1.3468168 1.0000e+00 ns          \n",
              "14 Shielding              -1.3596203 1.0000e+00 ns          "
            ],
            "text/latex": "A rstatix\\_test: 14 × 4\n\\begin{tabular}{llll}\n variables & statistic & p.adj & p.adj.signif\\\\\n <chr> & <dbl> & <dbl> & <chr>\\\\\n\\hline\n\t Age                   & -17.2654778 & 1.3370e-60 & ****\\\\\n\t Employment            &  -8.7647881 & 5.5300e-17 & ****\\\\\n\t Ethnicity             &   4.9574744 & 1.1074e-05 & ****\\\\\n\t covid\\_disrupt         &   4.4650867 & 1.1900e-04 & *** \\\\\n\t Gender                &  -3.7735170 & 2.3240e-03 & **  \\\\\n\t bad\\_covid\\_knowledge   &  -2.7140540 & 9.3940e-02 & ns  \\\\\n\t Education             &   2.0158926 & 6.1600e-01 & ns  \\\\\n\t Religion              &   1.9627419 & 6.9720e-01 & ns  \\\\\n\t bad\\_covid\\_vax\\_trust   &  -1.8518380 & 8.9880e-01 & ns  \\\\\n\t bad\\_general\\_vax\\_trust &  -1.4297878 & 1.0000e+00 & ns  \\\\\n\t Income                &   0.3340919 & 1.0000e+00 & ns  \\\\\n\t know.anyone.covid     &   1.5623138 & 1.0000e+00 & ns  \\\\\n\t Political             &   1.3468168 & 1.0000e+00 & ns  \\\\\n\t Shielding             &  -1.3596203 & 1.0000e+00 & ns  \\\\\n\\end{tabular}\n",
            "text/markdown": "\nA rstatix_test: 14 × 4\n\n| variables &lt;chr&gt; | statistic &lt;dbl&gt; | p.adj &lt;dbl&gt; | p.adj.signif &lt;chr&gt; |\n|---|---|---|---|\n| Age                   | -17.2654778 | 1.3370e-60 | **** |\n| Employment            |  -8.7647881 | 5.5300e-17 | **** |\n| Ethnicity             |   4.9574744 | 1.1074e-05 | **** |\n| covid_disrupt         |   4.4650867 | 1.1900e-04 | ***  |\n| Gender                |  -3.7735170 | 2.3240e-03 | **   |\n| bad_covid_knowledge   |  -2.7140540 | 9.3940e-02 | ns   |\n| Education             |   2.0158926 | 6.1600e-01 | ns   |\n| Religion              |   1.9627419 | 6.9720e-01 | ns   |\n| bad_covid_vax_trust   |  -1.8518380 | 8.9880e-01 | ns   |\n| bad_general_vax_trust |  -1.4297878 | 1.0000e+00 | ns   |\n| Income                |   0.3340919 | 1.0000e+00 | ns   |\n| know.anyone.covid     |   1.5623138 | 1.0000e+00 | ns   |\n| Political             |   1.3468168 | 1.0000e+00 | ns   |\n| Shielding             |  -1.3596203 | 1.0000e+00 | ns   |\n\n",
            "text/html": [
              "<table class=\"dataframe\">\n",
              "<caption>A rstatix_test: 14 × 4</caption>\n",
              "<thead>\n",
              "\t<tr><th scope=col>variables</th><th scope=col>statistic</th><th scope=col>p.adj</th><th scope=col>p.adj.signif</th></tr>\n",
              "\t<tr><th scope=col>&lt;chr&gt;</th><th scope=col>&lt;dbl&gt;</th><th scope=col>&lt;dbl&gt;</th><th scope=col>&lt;chr&gt;</th></tr>\n",
              "</thead>\n",
              "<tbody>\n",
              "\t<tr><td>Age                  </td><td>-17.2654778</td><td>1.3370e-60</td><td>****</td></tr>\n",
              "\t<tr><td>Employment           </td><td> -8.7647881</td><td>5.5300e-17</td><td>****</td></tr>\n",
              "\t<tr><td>Ethnicity            </td><td>  4.9574744</td><td>1.1074e-05</td><td>****</td></tr>\n",
              "\t<tr><td>covid_disrupt        </td><td>  4.4650867</td><td>1.1900e-04</td><td>*** </td></tr>\n",
              "\t<tr><td>Gender               </td><td> -3.7735170</td><td>2.3240e-03</td><td>**  </td></tr>\n",
              "\t<tr><td>bad_covid_knowledge  </td><td> -2.7140540</td><td>9.3940e-02</td><td>ns  </td></tr>\n",
              "\t<tr><td>Education            </td><td>  2.0158926</td><td>6.1600e-01</td><td>ns  </td></tr>\n",
              "\t<tr><td>Religion             </td><td>  1.9627419</td><td>6.9720e-01</td><td>ns  </td></tr>\n",
              "\t<tr><td>bad_covid_vax_trust  </td><td> -1.8518380</td><td>8.9880e-01</td><td>ns  </td></tr>\n",
              "\t<tr><td>bad_general_vax_trust</td><td> -1.4297878</td><td>1.0000e+00</td><td>ns  </td></tr>\n",
              "\t<tr><td>Income               </td><td>  0.3340919</td><td>1.0000e+00</td><td>ns  </td></tr>\n",
              "\t<tr><td>know.anyone.covid    </td><td>  1.5623138</td><td>1.0000e+00</td><td>ns  </td></tr>\n",
              "\t<tr><td>Political            </td><td>  1.3468168</td><td>1.0000e+00</td><td>ns  </td></tr>\n",
              "\t<tr><td>Shielding            </td><td> -1.3596203</td><td>1.0000e+00</td><td>ns  </td></tr>\n",
              "</tbody>\n",
              "</table>\n"
            ]
          },
          "metadata": {}
        }
      ]
    },
    {
      "cell_type": "code",
      "metadata": {
        "id": "zCvG9rHdUhnW"
      },
      "source": [
        "imbalanced_covariates <- stat.test %>%\n",
        "  filter(p.adj.signif != 'ns') %>%\n",
        "  pull(variables)"
      ],
      "execution_count": null,
      "outputs": []
    },
    {
      "cell_type": "markdown",
      "metadata": {
        "id": "SyyjGGDw2Qr3"
      },
      "source": [
        "## Impact of Imbalanced Covariates"
      ]
    },
    {
      "cell_type": "code",
      "metadata": {
        "id": "b2Qx31XK2T-7"
      },
      "source": [
        "pre_intent_plot <- function(df, group, y, item = 'plot') {\n",
        "  lower_limit <- ifelse(y == 'NumMisinfoBelief',-1.25,-0.5)\n",
        "  upper_limit <- ifelse(y == 'NumMisinfoBelief', 3.25, 0.5)\n",
        "  \n",
        "  group = sym(group)\n",
        "  y = sym(y)\n",
        "  \n",
        "  benchmark <- mean(df %>% pull(!!y))\n",
        "  \n",
        "  processed_df <- df %>%\n",
        "    mutate(!!group := as.factor(!!group)) %>%\n",
        "    group_by(!!group) %>%\n",
        "    summarize(\n",
        "      .groups = 'keep',\n",
        "      t = mean(!!y),\n",
        "      v = var(!!y) / n(),\n",
        "      t_lower = t - 1.96 * sqrt(v),\n",
        "      t_upper = t + 1.96 * sqrt(v)\n",
        "    ) %>%\n",
        "    select(!!group, t, v, t_lower, t_upper)\n",
        "  \n",
        "  se <- processed_df %>%\n",
        "    ungroup() %>%\n",
        "    summarize(se = sqrt(var(t))) %>%\n",
        "    pull(se)\n",
        "  \n",
        "  p <- processed_df %>%\n",
        "    ggplot(aes(\n",
        "      x = t,\n",
        "      y = !!group,\n",
        "      group = !!group\n",
        "    )) +\n",
        "    #draws the means\n",
        "    # geom_point(position = position_dodge(1)) +\n",
        "    geom_point() +\n",
        "    #draws the CI error bars\n",
        "    geom_errorbarh(aes(xmin = t_lower, xmax = t_upper),\n",
        "                   # color = !!group),\n",
        "                   show.legend = FALSE,\n",
        "                   height = 0) +\n",
        "    # position = position_dodge(0.78)) +\n",
        "    # xlim(lower_limit, upper_limit) +\n",
        "    geom_vline(xintercept = benchmark, linetype = \"dotted\") +\n",
        "    labs(\n",
        "      title = group,\n",
        "      x = 'avg pre vaccine intent') +\n",
        "    theme(axis.title.y = element_blank())\n",
        "  \n",
        "  return(if (item == 'se') {\n",
        "    se\n",
        "  } else{\n",
        "    p\n",
        "  })\n",
        "}"
      ],
      "execution_count": null,
      "outputs": []
    },
    {
      "cell_type": "code",
      "metadata": {
        "id": "4ra54VD62aQx"
      },
      "source": [
        "pre_vaccine_intent_se <- data.frame(covariate = character(),\n",
        "                                      se = double())\n",
        "pre_vaccine_intent_plots <- list()\n",
        "\n",
        "i = 1\n",
        "for (c in detailed_covariates) {\n",
        "  pre_vaccine_intent_se <- pre_vaccine_intent_se %>%\n",
        "    add_row(\n",
        "      covariate = c,\n",
        "      se = pre_intent_plot(df_us_cleaned, c, 'Vaccine.Intent.for.self..Pre.', 'se')\n",
        "    )\n",
        "  pre_vaccine_intent_plots[[i]] <-\n",
        "    pre_intent_plot(df_us_cleaned, c, 'Vaccine.Intent.for.self..Pre.', 'plot')\n",
        "  i = i + 1\n",
        "}"
      ],
      "execution_count": null,
      "outputs": []
    },
    {
      "cell_type": "markdown",
      "metadata": {
        "id": "P0-GVnyeUqn3"
      },
      "source": [
        "Imbalanced Covariates"
      ]
    },
    {
      "cell_type": "code",
      "metadata": {
        "colab": {
          "base_uri": "https://localhost:8080/",
          "height": 437
        },
        "id": "nnSln9a-UmIi",
        "outputId": "9e10687d-7d67-4651-c2a4-3fda4fe3649c"
      },
      "source": [
        "pre_vaccine_intent_se %>% \n",
        "  filter(covariate %in% imbalanced_covariates) %>% \n",
        "  ggplot(aes(x = reorder(covariate, se), y = se)) +\n",
        "  geom_bar(stat = 'identity') +\n",
        "  coord_flip() +\n",
        "  theme(\n",
        "    axis.title.y = element_blank()\n",
        "  ) +\n",
        "  labs(\n",
        "    title='Skew of Imbalanced Covariates',\n",
        "    y='Standard Deviation of Pre-Treatment Vaccine Intent'\n",
        "  )\n",
        "  "
      ],
      "execution_count": null,
      "outputs": [
        {
          "output_type": "display_data",
          "data": {
            "image/png": "[encoded data removed]",
            "text/plain": [
              "plot without title"
            ]
          },
          "metadata": {
            "image/png": {
              "width": 420,
              "height": 420
            }
          }
        }
      ]
    },
    {
      "cell_type": "code",
      "metadata": {
        "colab": {
          "base_uri": "https://localhost:8080/",
          "height": 437
        },
        "id": "GQB1fwxQhgGp",
        "outputId": "6df7a504-3669-41db-8407-ebbcd089c684"
      },
      "source": [
        "grid.arrange(grobs = pre_vaccine_intent_plots[c(1,2,4,7,14)], ncol = 2)"
      ],
      "execution_count": null,
      "outputs": [
        {
          "output_type": "display_data",
          "data": {
            "image/png": "[encoded data removed]",
            "text/plain": [
              "plot without title"
            ]
          },
          "metadata": {
            "image/png": {
              "width": 420,
              "height": 420
            }
          }
        }
      ]
    },
    {
      "cell_type": "markdown",
      "metadata": {
        "id": "IF6CT12LUsDb"
      },
      "source": [
        "All Explored Covariates"
      ]
    },
    {
      "cell_type": "code",
      "metadata": {
        "colab": {
          "base_uri": "https://localhost:8080/",
          "height": 437
        },
        "id": "tfQqO-VS2fY5",
        "outputId": "edc7b747-1ae9-4c20-c274-d5b72e2ebbef"
      },
      "source": [
        "pre_vaccine_intent_se %>% \n",
        "  ggplot(aes(x = reorder(covariate, se), y = se)) +\n",
        "  geom_bar(stat = 'identity') +\n",
        "  coord_flip() +\n",
        "  theme(\n",
        "    axis.title.y = element_blank()\n",
        "  ) +\n",
        "  labs(\n",
        "    title='Skew of All Covariates',\n",
        "    y='Standard Deviation of Pre-Treatment Vaccine Intent'\n",
        "  )"
      ],
      "execution_count": null,
      "outputs": [
        {
          "output_type": "display_data",
          "data": {
            "image/png": "[encoded data removed]",
            "text/plain": [
              "plot without title"
            ]
          },
          "metadata": {
            "image/png": {
              "width": 420,
              "height": 420
            }
          }
        }
      ]
    },
    {
      "cell_type": "code",
      "metadata": {
        "colab": {
          "base_uri": "https://localhost:8080/",
          "height": 857
        },
        "id": "sr6NBuEK2eCR",
        "outputId": "e5506ebb-7d78-4881-f13b-61784f3aadbb"
      },
      "source": [
        "grid.arrange(grobs = pre_vaccine_intent_plots[1:16], ncol = 4)\n",
        "grid.arrange(grobs = pre_vaccine_intent_plots[16:length(pre_vaccine_intent_plots)], ncol = 4)"
      ],
      "execution_count": null,
      "outputs": [
        {
          "output_type": "display_data",
          "data": {
            "image/png": "[encoded data removed]",
            "text/plain": [
              "plot without title"
            ]
          },
          "metadata": {
            "image/png": {
              "width": 420,
              "height": 420
            }
          }
        },
        {
          "output_type": "display_data",
          "data": {
            "image/png": "[encoded data removed]",
            "text/plain": [
              "plot without title"
            ]
          },
          "metadata": {
            "image/png": {
              "width": 420,
              "height": 420
            }
          }
        }
      ]
    },
    {
      "cell_type": "markdown",
      "metadata": {
        "id": "aaMZQEGROGCJ"
      },
      "source": [
        "# Adjusting for Imbalance"
      ]
    },
    {
      "cell_type": "markdown",
      "metadata": {
        "id": "uQstoyh2rwxR"
      },
      "source": [
        "## Setup "
      ]
    },
    {
      "cell_type": "code",
      "metadata": {
        "id": "-rZWb1vJdw21"
      },
      "source": [
        "df_adj_summary <- data.frame(\n",
        "  method = character(),\n",
        "  outcome = character(),\n",
        "  estimate = double(),\n",
        "  std_err = double(),\n",
        "  p_val = double()\n",
        ")"
      ],
      "execution_count": null,
      "outputs": []
    },
    {
      "cell_type": "code",
      "metadata": {
        "id": "fIRxj8LYds5C"
      },
      "source": [
        "ttest <- function(df, method_name, Y, treatment, control, alternative = 'greater'){\n",
        "   results <- t.test(\n",
        "    treatment,\n",
        "    control,\n",
        "    alternative = alternative\n",
        "  )\n",
        "\n",
        "  df <- df %>% \n",
        "    add_row(\n",
        "      method = method_name,\n",
        "      outcome = Y,\n",
        "      estimate = results$estimate[1] - results$estimate[2],\n",
        "      std_err = results$stderr,\n",
        "      p_val = results$p.value\n",
        "    )\n",
        "  return(df)\n",
        "}"
      ],
      "execution_count": null,
      "outputs": []
    },
    {
      "cell_type": "markdown",
      "metadata": {
        "id": "grF9RXxf34F3"
      },
      "source": [
        "## Baseline"
      ]
    },
    {
      "cell_type": "code",
      "metadata": {
        "colab": {
          "base_uri": "https://localhost:8080/",
          "height": 130
        },
        "id": "PHMlbJnX3yxd",
        "outputId": "2020d9c7-0285-4d68-8aaa-d89bcf0765f7"
      },
      "source": [
        "# SELF US\n",
        "df_adj_summary <- ttest(\n",
        "  df_adj_summary,\n",
        "  method_name = 'FRT',\n",
        "  Y = 'Vaccine_Intent_Self',\n",
        "  treatment = filter(df_us_cleaned_removed_no_intent, Treatment == 1)$Vaccine.Intent.for.self..Decrease,\n",
        "  control = filter(df_us_cleaned_removed_no_intent, Treatment == 0)$Vaccine.Intent.for.self..Decrease,\n",
        "  alternative = 'greater'\n",
        ")\n",
        "df_adj_summary"
      ],
      "execution_count": null,
      "outputs": [
        {
          "data": {
            "text/html": [
              "<table class=\"dataframe\">\n",
              "<caption>A data.frame: 1 × 5</caption>\n",
              "<thead>\n",
              "\t<tr><th scope=col>method</th><th scope=col>outcome</th><th scope=col>estimate</th><th scope=col>std_err</th><th scope=col>p_val</th></tr>\n",
              "\t<tr><th scope=col>&lt;chr&gt;</th><th scope=col>&lt;chr&gt;</th><th scope=col>&lt;dbl&gt;</th><th scope=col>&lt;dbl&gt;</th><th scope=col>&lt;dbl&gt;</th></tr>\n",
              "</thead>\n",
              "<tbody>\n",
              "\t<tr><td>FRT</td><td>Vaccine_Intent_Self</td><td>0.08659778</td><td>0.01302287</td><td>1.920301e-11</td></tr>\n",
              "</tbody>\n",
              "</table>\n"
            ],
            "text/latex": "A data.frame: 1 × 5\n\\begin{tabular}{lllll}\n method & outcome & estimate & std\\_err & p\\_val\\\\\n <chr> & <chr> & <dbl> & <dbl> & <dbl>\\\\\n\\hline\n\t FRT & Vaccine\\_Intent\\_Self & 0.08659778 & 0.01302287 & 1.920301e-11\\\\\n\\end{tabular}\n",
            "text/markdown": "\nA data.frame: 1 × 5\n\n| method &lt;chr&gt; | outcome &lt;chr&gt; | estimate &lt;dbl&gt; | std_err &lt;dbl&gt; | p_val &lt;dbl&gt; |\n|---|---|---|---|---|\n| FRT | Vaccine_Intent_Self | 0.08659778 | 0.01302287 | 1.920301e-11 |\n\n",
            "text/plain": [
              "  method outcome             estimate   std_err    p_val       \n",
              "1 FRT    Vaccine_Intent_Self 0.08659778 0.01302287 1.920301e-11"
            ]
          },
          "metadata": {},
          "output_type": "display_data"
        }
      ]
    },
    {
      "cell_type": "markdown",
      "metadata": {
        "id": "8XJjFB7PCfOQ"
      },
      "source": [
        "## Regression Adjustment"
      ]
    },
    {
      "cell_type": "code",
      "metadata": {
        "id": "WBv5TBn0C1uI"
      },
      "source": [
        "#### Prepare Dataset for doing Lin's estimator in US\n",
        "df_us_Lin <- df_us_cleaned_removed_no_intent %>%\n",
        "  select(\n",
        "    c(\n",
        "    'z',\n",
        "    'Vaccine.Intent.for.self..Decrease',\n",
        "    all_of(final_covariates)\n",
        "    )\n",
        "  )\n",
        "\n",
        "#### Centralize covariates\n",
        "lin_covariates <-\n",
        "  subset(df_us_Lin, select = -c(z, Vaccine.Intent.for.self..Decrease))\n",
        "\n",
        "lin_covariates_sub_mean = lin_covariates - colMeans(lin_covariates)\n",
        "lin_adj_us = lm_robust(\n",
        "  df_us_Lin$Vaccine.Intent.for.self..Decrease ~ df_us_Lin$z + . +\n",
        "    df_us_Lin$z * . ,\n",
        "  lin_covariates_sub_mean\n",
        ")"
      ],
      "execution_count": null,
      "outputs": []
    },
    {
      "cell_type": "code",
      "metadata": {
        "colab": {
          "base_uri": "https://localhost:8080/",
          "height": 161
        },
        "id": "hjc90PV0RKtF",
        "outputId": "5935a680-7199-4002-d27c-51fe7cbac2c1"
      },
      "source": [
        "df_adj_summary <- df_adj_summary %>% \n",
        "    add_row(\n",
        "      method = 'Lins Estimator',\n",
        "      outcome = 'Vaccine_Intent_Self',\n",
        "      estimate = lin_adj_us$coefficients['df_us_Lin$z'],\n",
        "      std_err = lin_adj_us$std.error['df_us_Lin$z'],\n",
        "      p_val = lin_adj_us$p.value['df_us_Lin$z']\n",
        "    )\n",
        "df_adj_summary"
      ],
      "execution_count": null,
      "outputs": [
        {
          "data": {
            "text/html": [
              "<table class=\"dataframe\">\n",
              "<caption>A data.frame: 2 × 5</caption>\n",
              "<thead>\n",
              "\t<tr><th scope=col>method</th><th scope=col>outcome</th><th scope=col>estimate</th><th scope=col>std_err</th><th scope=col>p_val</th></tr>\n",
              "\t<tr><th scope=col>&lt;chr&gt;</th><th scope=col>&lt;chr&gt;</th><th scope=col>&lt;dbl&gt;</th><th scope=col>&lt;dbl&gt;</th><th scope=col>&lt;dbl&gt;</th></tr>\n",
              "</thead>\n",
              "<tbody>\n",
              "\t<tr><td>FRT           </td><td>Vaccine_Intent_Self</td><td>0.08659778</td><td>0.01302287</td><td>1.920301e-11</td></tr>\n",
              "\t<tr><td>Lins Estimator</td><td>Vaccine_Intent_Self</td><td>0.07380057</td><td>0.03266724</td><td>2.393695e-02</td></tr>\n",
              "</tbody>\n",
              "</table>\n"
            ],
            "text/latex": "A data.frame: 2 × 5\n\\begin{tabular}{lllll}\n method & outcome & estimate & std\\_err & p\\_val\\\\\n <chr> & <chr> & <dbl> & <dbl> & <dbl>\\\\\n\\hline\n\t FRT            & Vaccine\\_Intent\\_Self & 0.08659778 & 0.01302287 & 1.920301e-11\\\\\n\t Lins Estimator & Vaccine\\_Intent\\_Self & 0.07380057 & 0.03266724 & 2.393695e-02\\\\\n\\end{tabular}\n",
            "text/markdown": "\nA data.frame: 2 × 5\n\n| method &lt;chr&gt; | outcome &lt;chr&gt; | estimate &lt;dbl&gt; | std_err &lt;dbl&gt; | p_val &lt;dbl&gt; |\n|---|---|---|---|---|\n| FRT            | Vaccine_Intent_Self | 0.08659778 | 0.01302287 | 1.920301e-11 |\n| Lins Estimator | Vaccine_Intent_Self | 0.07380057 | 0.03266724 | 2.393695e-02 |\n\n",
            "text/plain": [
              "  method         outcome             estimate   std_err    p_val       \n",
              "1 FRT            Vaccine_Intent_Self 0.08659778 0.01302287 1.920301e-11\n",
              "2 Lins Estimator Vaccine_Intent_Self 0.07380057 0.03266724 2.393695e-02"
            ]
          },
          "metadata": {},
          "output_type": "display_data"
        }
      ]
    },
    {
      "cell_type": "markdown",
      "metadata": {
        "id": "xzrotC9831Pa"
      },
      "source": [
        "## Matching"
      ]
    },
    {
      "cell_type": "code",
      "metadata": {
        "id": "s8UBei-9UMt0"
      },
      "source": [
        "matching_adj <- function(df, \n",
        "                         covariates, \n",
        "                         num_matches = 1, \n",
        "                         match_from = 'control' # flip the z if matching from treatment, eg more treatment than control\n",
        "                         ){\n",
        "  df$prop <-\n",
        "    glm(\n",
        "      as.formula(paste(ifelse(match_from == 'treatment', \"inv_z ~\", \"z ~\"), paste(covariates, collapse = \" + \"))),\n",
        "      family = binomial,\n",
        "      data = df\n",
        "    )$fitted.values\n",
        "\n",
        "  mahal <- smahal(\n",
        "      if(match_from == 'treatment'){df$inv_z} else{df$z},\n",
        "      df[, covariates])\n",
        "\n",
        "  mahal.match <- pairmatch(mahal, control = num_matches, data = df)\n",
        "  match_summary <-\n",
        "    summarize.match(df, mahal.match)\n",
        "  p <- xBalance(\n",
        "        as.formula(paste(paste(\"Treatment ~\", paste(covariates, collapse = \" + \")), '+ strata(mahal.match) - 1')),\n",
        "        data = df\n",
        "      )\n",
        "\n",
        "  return_items <- list(\"summary\" = match_summary, \"mahal_match\" = mahal.match, \"xBalance\" = p)\n",
        "  return(return_items)\n",
        "}\n",
        "\n",
        "match_results <- matching_adj(df_us_cleaned_removed_no_intent, final_covariates, num_matches = 2, match_from = 'treatment')"
      ],
      "execution_count": null,
      "outputs": []
    },
    {
      "cell_type": "code",
      "metadata": {
        "colab": {
          "base_uri": "https://localhost:8080/",
          "height": 437
        },
        "id": "9mIeq7uNZNwy",
        "outputId": "7f548944-4c05-42f1-924a-52e9f748580e"
      },
      "source": [
        "plot(match_results$xBalance,\n",
        "  main=\"US Control vs Treatment After Matching Adj\")"
      ],
      "execution_count": null,
      "outputs": [
        {
          "output_type": "display_data",
          "data": {
            "image/png": "[encoded data removed]",
            "text/plain": [
              "Plot with title “US Control vs Treatment After Matching Adj”"
            ]
          },
          "metadata": {
            "image/png": {
              "width": 420,
              "height": 420
            }
          }
        }
      ]
    },
    {
      "cell_type": "code",
      "metadata": {
        "colab": {
          "base_uri": "https://localhost:8080/",
          "height": 192
        },
        "id": "ZMdYKKEBZM8a",
        "outputId": "f7296e58-ee85-4fc5-dc70-6d77476e267e"
      },
      "source": [
        "df_adj_summary <- ttest(\n",
        "  df_adj_summary,\n",
        "  method_name = 'matching',\n",
        "  Y = 'Vaccine_Intent_Self',\n",
        "  treatment = match_results$summary$Vaccine.Intent.for.self..Decrease.1,\n",
        "  control = match_results$summary$Vaccine.Intent.for.self..Decrease.0,\n",
        "  alternative = 'greater'\n",
        ")\n",
        "df_adj_summary"
      ],
      "execution_count": null,
      "outputs": [
        {
          "data": {
            "text/html": [
              "<table class=\"dataframe\">\n",
              "<caption>A data.frame: 3 × 5</caption>\n",
              "<thead>\n",
              "\t<tr><th scope=col>method</th><th scope=col>outcome</th><th scope=col>estimate</th><th scope=col>std_err</th><th scope=col>p_val</th></tr>\n",
              "\t<tr><th scope=col>&lt;chr&gt;</th><th scope=col>&lt;chr&gt;</th><th scope=col>&lt;dbl&gt;</th><th scope=col>&lt;dbl&gt;</th><th scope=col>&lt;dbl&gt;</th></tr>\n",
              "</thead>\n",
              "<tbody>\n",
              "\t<tr><td>FRT           </td><td>Vaccine_Intent_Self</td><td>0.08659778</td><td>0.01302287</td><td>1.920301e-11</td></tr>\n",
              "\t<tr><td>Lins Estimator</td><td>Vaccine_Intent_Self</td><td>0.07380057</td><td>0.03266724</td><td>2.393695e-02</td></tr>\n",
              "\t<tr><td>matching      </td><td>Vaccine_Intent_Self</td><td>0.07943925</td><td>0.01191567</td><td>1.530347e-11</td></tr>\n",
              "</tbody>\n",
              "</table>\n"
            ],
            "text/latex": "A data.frame: 3 × 5\n\\begin{tabular}{lllll}\n method & outcome & estimate & std\\_err & p\\_val\\\\\n <chr> & <chr> & <dbl> & <dbl> & <dbl>\\\\\n\\hline\n\t FRT            & Vaccine\\_Intent\\_Self & 0.08659778 & 0.01302287 & 1.920301e-11\\\\\n\t Lins Estimator & Vaccine\\_Intent\\_Self & 0.07380057 & 0.03266724 & 2.393695e-02\\\\\n\t matching       & Vaccine\\_Intent\\_Self & 0.07943925 & 0.01191567 & 1.530347e-11\\\\\n\\end{tabular}\n",
            "text/markdown": "\nA data.frame: 3 × 5\n\n| method &lt;chr&gt; | outcome &lt;chr&gt; | estimate &lt;dbl&gt; | std_err &lt;dbl&gt; | p_val &lt;dbl&gt; |\n|---|---|---|---|---|\n| FRT            | Vaccine_Intent_Self | 0.08659778 | 0.01302287 | 1.920301e-11 |\n| Lins Estimator | Vaccine_Intent_Self | 0.07380057 | 0.03266724 | 2.393695e-02 |\n| matching       | Vaccine_Intent_Self | 0.07943925 | 0.01191567 | 1.530347e-11 |\n\n",
            "text/plain": [
              "  method         outcome             estimate   std_err    p_val       \n",
              "1 FRT            Vaccine_Intent_Self 0.08659778 0.01302287 1.920301e-11\n",
              "2 Lins Estimator Vaccine_Intent_Self 0.07380057 0.03266724 2.393695e-02\n",
              "3 matching       Vaccine_Intent_Self 0.07943925 0.01191567 1.530347e-11"
            ]
          },
          "metadata": {},
          "output_type": "display_data"
        }
      ]
    },
    {
      "cell_type": "markdown",
      "metadata": {
        "id": "6b00zuMNqfLT"
      },
      "source": [
        "## Placebo Benchmark"
      ]
    },
    {
      "cell_type": "code",
      "metadata": {
        "id": "rESHjs7gnm_W"
      },
      "source": [
        "# train glm on the covariates (not depending on treatment at all)\n",
        "glm_ber <- glm(as.formula(paste(\n",
        "  \"Vaccine.Intent.for.self..Decrease ~\",\n",
        "  paste(final_covariates, collapse = \" + \")\n",
        ")),\n",
        "family = binomial,\n",
        "data = df_us_cleaned)\n",
        "\n",
        "# use trained glm to predict placebo Y's for full dataset\n",
        "df_us_cleaned$placebo_y_prob <-\n",
        "  predict(glm_ber, df_us_cleaned[, final_covariates], type = \"response\")"
      ],
      "execution_count": null,
      "outputs": []
    },
    {
      "cell_type": "markdown",
      "metadata": {
        "id": "focy7HSPoMLE"
      },
      "source": [
        "Baseline"
      ]
    },
    {
      "cell_type": "code",
      "metadata": {
        "colab": {
          "base_uri": "https://localhost:8080/",
          "height": 223
        },
        "id": "2G1IomkWoNtR",
        "outputId": "f1e77eaa-5c2f-4738-e5d9-badabb0d9f3c"
      },
      "source": [
        "df_adj_summary <- ttest(\n",
        "  df_adj_summary,\n",
        "  method_name = 'FRT',\n",
        "  Y = 'Placebo_Y',\n",
        "  treatment = filter(df_us_cleaned, Treatment == 1)$placebo_y_prob,\n",
        "  control = filter(df_us_cleaned, Treatment == 0)$placebo_y_prob,\n",
        "  alternative = 'two.sided'\n",
        ")\n",
        "df_adj_summary"
      ],
      "execution_count": null,
      "outputs": [
        {
          "data": {
            "text/html": [
              "<table class=\"dataframe\">\n",
              "<caption>A data.frame: 4 × 5</caption>\n",
              "<thead>\n",
              "\t<tr><th scope=col>method</th><th scope=col>outcome</th><th scope=col>estimate</th><th scope=col>std_err</th><th scope=col>p_val</th></tr>\n",
              "\t<tr><th scope=col>&lt;chr&gt;</th><th scope=col>&lt;chr&gt;</th><th scope=col>&lt;dbl&gt;</th><th scope=col>&lt;dbl&gt;</th><th scope=col>&lt;dbl&gt;</th></tr>\n",
              "</thead>\n",
              "<tbody>\n",
              "\t<tr><td>FRT           </td><td>Vaccine_Intent_Self</td><td>0.086597782</td><td>0.013022871</td><td>1.920301e-11</td></tr>\n",
              "\t<tr><td>Lins Estimator</td><td>Vaccine_Intent_Self</td><td>0.073800570</td><td>0.032667238</td><td>2.393695e-02</td></tr>\n",
              "\t<tr><td>matching      </td><td>Vaccine_Intent_Self</td><td>0.079439252</td><td>0.011915672</td><td>1.530347e-11</td></tr>\n",
              "\t<tr><td>FRT           </td><td>Placebo_Y          </td><td>0.002514752</td><td>0.001380498</td><td>6.869553e-02</td></tr>\n",
              "</tbody>\n",
              "</table>\n"
            ],
            "text/latex": "A data.frame: 4 × 5\n\\begin{tabular}{lllll}\n method & outcome & estimate & std\\_err & p\\_val\\\\\n <chr> & <chr> & <dbl> & <dbl> & <dbl>\\\\\n\\hline\n\t FRT            & Vaccine\\_Intent\\_Self & 0.086597782 & 0.013022871 & 1.920301e-11\\\\\n\t Lins Estimator & Vaccine\\_Intent\\_Self & 0.073800570 & 0.032667238 & 2.393695e-02\\\\\n\t matching       & Vaccine\\_Intent\\_Self & 0.079439252 & 0.011915672 & 1.530347e-11\\\\\n\t FRT            & Placebo\\_Y           & 0.002514752 & 0.001380498 & 6.869553e-02\\\\\n\\end{tabular}\n",
            "text/markdown": "\nA data.frame: 4 × 5\n\n| method &lt;chr&gt; | outcome &lt;chr&gt; | estimate &lt;dbl&gt; | std_err &lt;dbl&gt; | p_val &lt;dbl&gt; |\n|---|---|---|---|---|\n| FRT            | Vaccine_Intent_Self | 0.086597782 | 0.013022871 | 1.920301e-11 |\n| Lins Estimator | Vaccine_Intent_Self | 0.073800570 | 0.032667238 | 2.393695e-02 |\n| matching       | Vaccine_Intent_Self | 0.079439252 | 0.011915672 | 1.530347e-11 |\n| FRT            | Placebo_Y           | 0.002514752 | 0.001380498 | 6.869553e-02 |\n\n",
            "text/plain": [
              "  method         outcome             estimate    std_err     p_val       \n",
              "1 FRT            Vaccine_Intent_Self 0.086597782 0.013022871 1.920301e-11\n",
              "2 Lins Estimator Vaccine_Intent_Self 0.073800570 0.032667238 2.393695e-02\n",
              "3 matching       Vaccine_Intent_Self 0.079439252 0.011915672 1.530347e-11\n",
              "4 FRT            Placebo_Y           0.002514752 0.001380498 6.869553e-02"
            ]
          },
          "metadata": {},
          "output_type": "display_data"
        }
      ]
    },
    {
      "cell_type": "markdown",
      "metadata": {
        "id": "l2SY4mt_n_pg"
      },
      "source": [
        "Lin's Estimator"
      ]
    },
    {
      "cell_type": "code",
      "metadata": {
        "colab": {
          "base_uri": "https://localhost:8080/",
          "height": 255
        },
        "id": "lsb0Q95Hn7_J",
        "outputId": "c2ffb3da-c38c-4853-879c-d2c1a6d0281d"
      },
      "source": [
        "placebo_lin_covariates <- df_us_cleaned[,final_covariates] - colMeans(df_us_cleaned[,final_covariates]) \n",
        "\n",
        "placebo_lin_fit <- lm_robust(df_us_cleaned$placebo_y_prob ~ df_us_cleaned$z + . + \n",
        "          df_us_cleaned$z * . , placebo_lin_covariates)\n",
        "\n",
        "df_adj_summary <- df_adj_summary %>% \n",
        "    add_row(\n",
        "      method = 'Lins Estimator',\n",
        "      outcome = 'Placebo_Y',\n",
        "      estimate = placebo_lin_fit$coefficients['df_us_cleaned$z'],\n",
        "      std_err = placebo_lin_fit$std.error['df_us_cleaned$z'],\n",
        "      p_val = placebo_lin_fit$p.value['df_us_cleaned$z']\n",
        "    )\n",
        "df_adj_summary"
      ],
      "execution_count": null,
      "outputs": [
        {
          "data": {
            "text/html": [
              "<table class=\"dataframe\">\n",
              "<caption>A data.frame: 5 × 5</caption>\n",
              "<thead>\n",
              "\t<tr><th scope=col>method</th><th scope=col>outcome</th><th scope=col>estimate</th><th scope=col>std_err</th><th scope=col>p_val</th></tr>\n",
              "\t<tr><th scope=col>&lt;chr&gt;</th><th scope=col>&lt;chr&gt;</th><th scope=col>&lt;dbl&gt;</th><th scope=col>&lt;dbl&gt;</th><th scope=col>&lt;dbl&gt;</th></tr>\n",
              "</thead>\n",
              "<tbody>\n",
              "\t<tr><td>FRT           </td><td>Vaccine_Intent_Self</td><td>0.086597782</td><td>0.013022871</td><td>1.920301e-11</td></tr>\n",
              "\t<tr><td>Lins Estimator</td><td>Vaccine_Intent_Self</td><td>0.073800570</td><td>0.032667238</td><td>2.393695e-02</td></tr>\n",
              "\t<tr><td>matching      </td><td>Vaccine_Intent_Self</td><td>0.079439252</td><td>0.011915672</td><td>1.530347e-11</td></tr>\n",
              "\t<tr><td>FRT           </td><td>Placebo_Y          </td><td>0.002514752</td><td>0.001380498</td><td>6.869553e-02</td></tr>\n",
              "\t<tr><td>Lins Estimator</td><td>Placebo_Y          </td><td>0.009313576</td><td>0.005651380</td><td>9.942806e-02</td></tr>\n",
              "</tbody>\n",
              "</table>\n"
            ],
            "text/latex": "A data.frame: 5 × 5\n\\begin{tabular}{lllll}\n method & outcome & estimate & std\\_err & p\\_val\\\\\n <chr> & <chr> & <dbl> & <dbl> & <dbl>\\\\\n\\hline\n\t FRT            & Vaccine\\_Intent\\_Self & 0.086597782 & 0.013022871 & 1.920301e-11\\\\\n\t Lins Estimator & Vaccine\\_Intent\\_Self & 0.073800570 & 0.032667238 & 2.393695e-02\\\\\n\t matching       & Vaccine\\_Intent\\_Self & 0.079439252 & 0.011915672 & 1.530347e-11\\\\\n\t FRT            & Placebo\\_Y           & 0.002514752 & 0.001380498 & 6.869553e-02\\\\\n\t Lins Estimator & Placebo\\_Y           & 0.009313576 & 0.005651380 & 9.942806e-02\\\\\n\\end{tabular}\n",
            "text/markdown": "\nA data.frame: 5 × 5\n\n| method &lt;chr&gt; | outcome &lt;chr&gt; | estimate &lt;dbl&gt; | std_err &lt;dbl&gt; | p_val &lt;dbl&gt; |\n|---|---|---|---|---|\n| FRT            | Vaccine_Intent_Self | 0.086597782 | 0.013022871 | 1.920301e-11 |\n| Lins Estimator | Vaccine_Intent_Self | 0.073800570 | 0.032667238 | 2.393695e-02 |\n| matching       | Vaccine_Intent_Self | 0.079439252 | 0.011915672 | 1.530347e-11 |\n| FRT            | Placebo_Y           | 0.002514752 | 0.001380498 | 6.869553e-02 |\n| Lins Estimator | Placebo_Y           | 0.009313576 | 0.005651380 | 9.942806e-02 |\n\n",
            "text/plain": [
              "  method         outcome             estimate    std_err     p_val       \n",
              "1 FRT            Vaccine_Intent_Self 0.086597782 0.013022871 1.920301e-11\n",
              "2 Lins Estimator Vaccine_Intent_Self 0.073800570 0.032667238 2.393695e-02\n",
              "3 matching       Vaccine_Intent_Self 0.079439252 0.011915672 1.530347e-11\n",
              "4 FRT            Placebo_Y           0.002514752 0.001380498 6.869553e-02\n",
              "5 Lins Estimator Placebo_Y           0.009313576 0.005651380 9.942806e-02"
            ]
          },
          "metadata": {},
          "output_type": "display_data"
        }
      ]
    },
    {
      "cell_type": "markdown",
      "metadata": {
        "id": "m6w_LVBpoFJq"
      },
      "source": [
        "Matching"
      ]
    },
    {
      "cell_type": "code",
      "metadata": {
        "colab": {
          "base_uri": "https://localhost:8080/",
          "height": 286
        },
        "id": "JsWNYMcUoGMG",
        "outputId": "39f4f89b-10d9-48b7-e261-b44ca8c20e0f"
      },
      "source": [
        "match_results_placebo <- matching_adj(df_us_cleaned,\n",
        "                              final_covariates,\n",
        "                              num_matches = 2,\n",
        "                              match_from = 'treatment')\n",
        "\n",
        "df_adj_summary <- ttest(\n",
        "  df_adj_summary,\n",
        "  method_name = 'matching',\n",
        "  Y = 'Placebo_Y',\n",
        "  treatment = match_results_placebo$summary$placebo_y_prob.1,\n",
        "  control = match_results_placebo$summary$placebo_y_prob.0,\n",
        "  alternative = 'two.sided'\n",
        ")\n",
        "df_adj_summary"
      ],
      "execution_count": null,
      "outputs": [
        {
          "data": {
            "text/html": [
              "<table class=\"dataframe\">\n",
              "<caption>A data.frame: 6 × 5</caption>\n",
              "<thead>\n",
              "\t<tr><th scope=col>method</th><th scope=col>outcome</th><th scope=col>estimate</th><th scope=col>std_err</th><th scope=col>p_val</th></tr>\n",
              "\t<tr><th scope=col>&lt;chr&gt;</th><th scope=col>&lt;chr&gt;</th><th scope=col>&lt;dbl&gt;</th><th scope=col>&lt;dbl&gt;</th><th scope=col>&lt;dbl&gt;</th></tr>\n",
              "</thead>\n",
              "<tbody>\n",
              "\t<tr><td>FRT           </td><td>Vaccine_Intent_Self</td><td> 0.0865977820</td><td>0.013022871</td><td>1.920301e-11</td></tr>\n",
              "\t<tr><td>Lins Estimator</td><td>Vaccine_Intent_Self</td><td> 0.0738005700</td><td>0.032667238</td><td>2.393695e-02</td></tr>\n",
              "\t<tr><td>matching      </td><td>Vaccine_Intent_Self</td><td> 0.0794392523</td><td>0.011915672</td><td>1.530347e-11</td></tr>\n",
              "\t<tr><td>FRT           </td><td>Placebo_Y          </td><td> 0.0025147524</td><td>0.001380498</td><td>6.869553e-02</td></tr>\n",
              "\t<tr><td>Lins Estimator</td><td>Placebo_Y          </td><td> 0.0093135764</td><td>0.005651380</td><td>9.942806e-02</td></tr>\n",
              "\t<tr><td>matching      </td><td>Placebo_Y          </td><td>-0.0004977516</td><td>0.001179685</td><td>6.730946e-01</td></tr>\n",
              "</tbody>\n",
              "</table>\n"
            ],
            "text/latex": "A data.frame: 6 × 5\n\\begin{tabular}{lllll}\n method & outcome & estimate & std\\_err & p\\_val\\\\\n <chr> & <chr> & <dbl> & <dbl> & <dbl>\\\\\n\\hline\n\t FRT            & Vaccine\\_Intent\\_Self &  0.0865977820 & 0.013022871 & 1.920301e-11\\\\\n\t Lins Estimator & Vaccine\\_Intent\\_Self &  0.0738005700 & 0.032667238 & 2.393695e-02\\\\\n\t matching       & Vaccine\\_Intent\\_Self &  0.0794392523 & 0.011915672 & 1.530347e-11\\\\\n\t FRT            & Placebo\\_Y           &  0.0025147524 & 0.001380498 & 6.869553e-02\\\\\n\t Lins Estimator & Placebo\\_Y           &  0.0093135764 & 0.005651380 & 9.942806e-02\\\\\n\t matching       & Placebo\\_Y           & -0.0004977516 & 0.001179685 & 6.730946e-01\\\\\n\\end{tabular}\n",
            "text/markdown": "\nA data.frame: 6 × 5\n\n| method &lt;chr&gt; | outcome &lt;chr&gt; | estimate &lt;dbl&gt; | std_err &lt;dbl&gt; | p_val &lt;dbl&gt; |\n|---|---|---|---|---|\n| FRT            | Vaccine_Intent_Self |  0.0865977820 | 0.013022871 | 1.920301e-11 |\n| Lins Estimator | Vaccine_Intent_Self |  0.0738005700 | 0.032667238 | 2.393695e-02 |\n| matching       | Vaccine_Intent_Self |  0.0794392523 | 0.011915672 | 1.530347e-11 |\n| FRT            | Placebo_Y           |  0.0025147524 | 0.001380498 | 6.869553e-02 |\n| Lins Estimator | Placebo_Y           |  0.0093135764 | 0.005651380 | 9.942806e-02 |\n| matching       | Placebo_Y           | -0.0004977516 | 0.001179685 | 6.730946e-01 |\n\n",
            "text/plain": [
              "  method         outcome             estimate      std_err     p_val       \n",
              "1 FRT            Vaccine_Intent_Self  0.0865977820 0.013022871 1.920301e-11\n",
              "2 Lins Estimator Vaccine_Intent_Self  0.0738005700 0.032667238 2.393695e-02\n",
              "3 matching       Vaccine_Intent_Self  0.0794392523 0.011915672 1.530347e-11\n",
              "4 FRT            Placebo_Y            0.0025147524 0.001380498 6.869553e-02\n",
              "5 Lins Estimator Placebo_Y            0.0093135764 0.005651380 9.942806e-02\n",
              "6 matching       Placebo_Y           -0.0004977516 0.001179685 6.730946e-01"
            ]
          },
          "metadata": {},
          "output_type": "display_data"
        }
      ]
    },
    {
      "cell_type": "markdown",
      "metadata": {
        "id": "uTPQAAl8bDqe"
      },
      "source": [
        "## Summary Results\n"
      ]
    },
    {
      "cell_type": "code",
      "metadata": {
        "colab": {
          "base_uri": "https://localhost:8080/",
          "height": 286
        },
        "id": "iLFlFeZGbDlD",
        "outputId": "edb6eb59-63d8-4f51-91d0-97b95296ac0f"
      },
      "source": [
        "df_adj_summary %>%\n",
        "  filter(outcome == 'Vaccine_Intent_Self')"
      ],
      "execution_count": null,
      "outputs": [
        {
          "data": {
            "text/html": [
              "<table class=\"dataframe\">\n",
              "<caption>A data.frame: 6 × 5</caption>\n",
              "<thead>\n",
              "\t<tr><th scope=col>method</th><th scope=col>outcome</th><th scope=col>estimate</th><th scope=col>std_err</th><th scope=col>p_val</th></tr>\n",
              "\t<tr><th scope=col>&lt;chr&gt;</th><th scope=col>&lt;chr&gt;</th><th scope=col>&lt;dbl&gt;</th><th scope=col>&lt;dbl&gt;</th><th scope=col>&lt;dbl&gt;</th></tr>\n",
              "</thead>\n",
              "<tbody>\n",
              "\t<tr><td>FRT           </td><td>Vaccine_Intent_Self</td><td> 0.0865977820</td><td>0.013022871</td><td>1.920301e-11</td></tr>\n",
              "\t<tr><td>Lins Estimator</td><td>Vaccine_Intent_Self</td><td> 0.0738005700</td><td>0.032667238</td><td>2.393695e-02</td></tr>\n",
              "\t<tr><td>matching      </td><td>Vaccine_Intent_Self</td><td> 0.0794392523</td><td>0.011915672</td><td>1.530347e-11</td></tr>\n",
              "\t<tr><td>FRT           </td><td>Placebo_Y          </td><td> 0.0025147524</td><td>0.001380498</td><td>6.869553e-02</td></tr>\n",
              "\t<tr><td>Lins Estimator</td><td>Placebo_Y          </td><td> 0.0093135764</td><td>0.005651380</td><td>9.942806e-02</td></tr>\n",
              "\t<tr><td>matching      </td><td>Placebo_Y          </td><td>-0.0004977516</td><td>0.001179685</td><td>6.730946e-01</td></tr>\n",
              "</tbody>\n",
              "</table>\n"
            ],
            "text/latex": "A data.frame: 6 × 5\n\\begin{tabular}{lllll}\n method & outcome & estimate & std\\_err & p\\_val\\\\\n <chr> & <chr> & <dbl> & <dbl> & <dbl>\\\\\n\\hline\n\t FRT            & Vaccine\\_Intent\\_Self &  0.0865977820 & 0.013022871 & 1.920301e-11\\\\\n\t Lins Estimator & Vaccine\\_Intent\\_Self &  0.0738005700 & 0.032667238 & 2.393695e-02\\\\\n\t matching       & Vaccine\\_Intent\\_Self &  0.0794392523 & 0.011915672 & 1.530347e-11\\\\\n\t FRT            & Placebo\\_Y           &  0.0025147524 & 0.001380498 & 6.869553e-02\\\\\n\t Lins Estimator & Placebo\\_Y           &  0.0093135764 & 0.005651380 & 9.942806e-02\\\\\n\t matching       & Placebo\\_Y           & -0.0004977516 & 0.001179685 & 6.730946e-01\\\\\n\\end{tabular}\n",
            "text/markdown": "\nA data.frame: 6 × 5\n\n| method &lt;chr&gt; | outcome &lt;chr&gt; | estimate &lt;dbl&gt; | std_err &lt;dbl&gt; | p_val &lt;dbl&gt; |\n|---|---|---|---|---|\n| FRT            | Vaccine_Intent_Self |  0.0865977820 | 0.013022871 | 1.920301e-11 |\n| Lins Estimator | Vaccine_Intent_Self |  0.0738005700 | 0.032667238 | 2.393695e-02 |\n| matching       | Vaccine_Intent_Self |  0.0794392523 | 0.011915672 | 1.530347e-11 |\n| FRT            | Placebo_Y           |  0.0025147524 | 0.001380498 | 6.869553e-02 |\n| Lins Estimator | Placebo_Y           |  0.0093135764 | 0.005651380 | 9.942806e-02 |\n| matching       | Placebo_Y           | -0.0004977516 | 0.001179685 | 6.730946e-01 |\n\n",
            "text/plain": [
              "  method         outcome             estimate      std_err     p_val       \n",
              "1 FRT            Vaccine_Intent_Self  0.0865977820 0.013022871 1.920301e-11\n",
              "2 Lins Estimator Vaccine_Intent_Self  0.0738005700 0.032667238 2.393695e-02\n",
              "3 matching       Vaccine_Intent_Self  0.0794392523 0.011915672 1.530347e-11\n",
              "4 FRT            Placebo_Y            0.0025147524 0.001380498 6.869553e-02\n",
              "5 Lins Estimator Placebo_Y            0.0093135764 0.005651380 9.942806e-02\n",
              "6 matching       Placebo_Y           -0.0004977516 0.001179685 6.730946e-01"
            ]
          },
          "metadata": {},
          "output_type": "display_data"
        }
      ]
    },
    {
      "cell_type": "markdown",
      "metadata": {
        "id": "UvqftrHUONoV"
      },
      "source": [
        "# Heterogenous Treatment Effects"
      ]
    },
    {
      "cell_type": "code",
      "metadata": {
        "id": "vOEfr-JNORQ0"
      },
      "source": [
        "hte_plot <- function(df, group, y){\n",
        "  lower_limit <- ifelse(y == 'NumMisinfoBelief', -1.25, -0.5)\n",
        "  upper_limit <- ifelse(y == 'NumMisinfoBelief', 3.25, 0.5)\n",
        "  \n",
        "  group = sym(group)\n",
        "  y = sym(y)\n",
        "  \n",
        "  p <- df %>% \n",
        "    mutate(\n",
        "      !!group := as.factor(!!group)\n",
        "    ) %>% \n",
        "    group_by(!!group, z) %>% \n",
        "    summarize(\n",
        "      .groups = 'keep',\n",
        "      t = mean(!!y),\n",
        "      v = var(!!y) / n()\n",
        "    ) %>%\n",
        "    pivot_wider(names_from = z, values_from = c(t, v)) %>%\n",
        "    mutate(\n",
        "      T = t_1 - t_0,\n",
        "      var = v_0 + v_1,\n",
        "      T_lower = T - 1.96 *sqrt(var),\n",
        "      T_upper = T + 1.96*sqrt(var)\n",
        "    ) %>% \n",
        "    select(\n",
        "      !!group, T, var, T_lower, T_upper\n",
        "    ) %>%\n",
        "    ggplot(aes(x=T, y = !!group, group = !!group)) +\n",
        "    #draws the means\n",
        "    # geom_point(position = position_dodge(1)) +\n",
        "    geom_point() +\n",
        "    #draws the CI error bars\n",
        "    geom_errorbarh(\n",
        "      aes(xmin = T_lower, xmax = T_upper),\n",
        "          # color = !!group),\n",
        "      show.legend = FALSE,\n",
        "      height = 0\n",
        "      # position = position_dodge(0.78)\n",
        "    ) +\n",
        "    xlim(lower_limit, upper_limit) +\n",
        "    geom_vline(xintercept = 0, linetype=\"dotted\") +\n",
        "    ggtitle(group) +\n",
        "    theme(axis.title.y=element_blank())\n",
        "  \n",
        "  return(p)\n",
        "}\n",
        "\n",
        "hte_plots_vaccine_intent_self <- list()\n",
        "#hte_plots_vaccine_intent_others <- list()\n",
        "#hte_plots_misinfo_belief <- list()\n",
        "\n",
        "i = 1\n",
        "for(c in detailed_covariates){\n",
        "  hte_plots_vaccine_intent_self[[i]] <- (hte_plot(df_us_cleaned, c, 'Vaccine.Intent.for.self..Decrease'))\n",
        "  #hte_plots_vaccine_intent_others[[i]] <- (hte_plot(df_us_cleaned, c, 'Vaccine.Intent.for.others..Decrease'))\n",
        "  #hte_plots_misinfo_belief[[i]] <- (hte_plot(df_us_cleaned, c, 'NumMisinfoBelief'))\n",
        "  i = i + 1\n",
        "}"
      ],
      "execution_count": null,
      "outputs": []
    },
    {
      "cell_type": "code",
      "metadata": {
        "colab": {
          "base_uri": "https://localhost:8080/",
          "height": 892
        },
        "id": "McVhWoRuOoci",
        "outputId": "b3320592-53d6-4e7b-c9e3-fd4cc3a5c870"
      },
      "source": [
        "grid.arrange(grobs = hte_plots_vaccine_intent_self[1:16], ncol = 4)\n",
        "grid.arrange(grobs = hte_plots_vaccine_intent_self[16:length(hte_plots_vaccine_intent_self)], ncol = 4)"
      ],
      "execution_count": null,
      "outputs": [
        {
          "name": "stderr",
          "output_type": "stream",
          "text": [
            "Warning message:\n",
            "“Removed 1 rows containing missing values (geom_errorbarh).”\n"
          ]
        },
        {
          "data": {
            "image/png": "[encoded data removed]",
            "text/plain": [
              "plot without title"
            ]
          },
          "metadata": {
            "image/png": {
              "height": 420,
              "width": 420
            }
          },
          "output_type": "display_data"
        },
        {
          "data": {
            "image/png": "[encoded data removed]",
            "text/plain": [
              "plot without title"
            ]
          },
          "metadata": {
            "image/png": {
              "height": 420,
              "width": 420
            }
          },
          "output_type": "display_data"
        }
      ]
    },
    {
      "cell_type": "markdown",
      "metadata": {
        "id": "SrhaZ3A1O6An"
      },
      "source": [
        "# Appendix"
      ]
    },
    {
      "cell_type": "markdown",
      "metadata": {
        "id": "VEWilQBtJb4W"
      },
      "source": [
        "## Regression Adjustment for different Y"
      ]
    },
    {
      "cell_type": "code",
      "metadata": {
        "id": "DPhqkVfOq0X_"
      },
      "source": [
        "### Prepare Dataset for doing Lin's estimator in US\n",
        "df_us_Lin_diffY <- df_us %>%\n",
        "  mutate(\n",
        "    \n",
        "    \n",
        "    Image.NumAgree = ((Image.1.Agreement > 0) + (Image.2.Agreement > 0) + (Image.3.Agreement > 0) + (Image.4.Agreement > 0) + (Image.5.Agreement > 0)),\n",
        "    Image.NumDontKnow = ((Image.1.Agreement == 0) + (Image.2.Agreement == 0) + (Image.3.Agreement == 0) + (Image.4.Agreement == 0) + (Image.5.Agreement == 0)),\n",
        "    Image.NumDisagree = (5 - Image.NumAgree - Image.NumDontKnow),\n",
        "    NumMisinfoBelief = Treatment*Image.NumAgree + (1-Treatment)*(Image.NumDisagree),\n",
        "    MisinfoBeliever = NumMisinfoBelief > 1\n",
        "  )\n",
        "\n",
        "df_us_Lin_diffY <- df_us_Lin_diffY %>%\n",
        "  select(\n",
        "    Treatment,\n",
        "    MisinfoBeliever,\n",
        "    Age,\n",
        "    Gender, \n",
        "    Education,\n",
        "    Employment,\n",
        "    Religion,\n",
        "    Political,\n",
        "    Ethnicity,\n",
        "    Income   \n",
        "  )\n",
        "\n",
        "#### Centralize covariates\n",
        "covariate <- subset(df_us_Lin_diffY, select=-c(Treatment, MisinfoBeliever))\n",
        "\n",
        "covariate_sub_mean = covariate - colMeans(covariate) \n",
        "fit_misinfo_us = lm_robust(df_us_Lin_diffY$MisinfoBeliever ~ df_us_Lin_diffY$Treatment + . + \n",
        "          df_us_Lin_diffY$Treatment * . , covariate_sub_mean)"
      ],
      "execution_count": null,
      "outputs": []
    },
    {
      "cell_type": "code",
      "metadata": {
        "colab": {
          "base_uri": "https://localhost:8080/"
        },
        "id": "cuPYwC5hJlBf",
        "outputId": "6e66eef0-3736-4786-e5c9-a1c9f4bab242"
      },
      "source": [
        "fit_misinfo_us"
      ],
      "execution_count": null,
      "outputs": [
        {
          "data": {
            "text/plain": [
              "                                          Estimate  Std. Error     t value\n",
              "(Intercept)                           0.1740396861 0.019694216  8.83709626\n",
              "df_us_Lin_diffY$Treatment             0.1450791027 0.024768026  5.85751572\n",
              "Age                                   0.0019454845 0.006695294  0.29057493\n",
              "Gender                                0.0048258691 0.013019011  0.37067863\n",
              "Education                            -0.0070584299 0.007794243 -0.90559528\n",
              "Employment                            0.0114954266 0.008324136  1.38097543\n",
              "Religion                              0.0072905918 0.006165036  1.18257086\n",
              "Political                             0.0002926068 0.010903823  0.02683525\n",
              "Ethnicity                             0.0031752055 0.007980987  0.39784622\n",
              "Income                               -0.0129332051 0.006720612 -1.92440894\n",
              "df_us_Lin_diffY$Treatment:Age        -0.0611937418 0.008410222 -7.27611521\n",
              "df_us_Lin_diffY$Treatment:Gender     -0.0592343925 0.016061044 -3.68807865\n",
              "df_us_Lin_diffY$Treatment:Education   0.0113309146 0.009528519  1.18915805\n",
              "df_us_Lin_diffY$Treatment:Employment -0.0502178194 0.009683472 -5.18593109\n",
              "df_us_Lin_diffY$Treatment:Religion   -0.0364020033 0.007597894 -4.79106513\n",
              "df_us_Lin_diffY$Treatment:Political  -0.0533218053 0.013082245 -4.07589120\n",
              "df_us_Lin_diffY$Treatment:Ethnicity  -0.0041005302 0.009965155 -0.41148686\n",
              "df_us_Lin_diffY$Treatment:Income      0.0018264564 0.008522893  0.21430003\n",
              "                                         Pr(>|t|)     CI Lower      CI Upper\n",
              "(Intercept)                          1.447365e-18  0.135427998  0.2126513743\n",
              "df_us_Lin_diffY$Treatment            5.078078e-09  0.096519907  0.1936382982\n",
              "Age                                  7.713916e-01 -0.011181039  0.0150720081\n",
              "Gender                               7.108966e-01 -0.020698680  0.0303504180\n",
              "Education                            3.652049e-01 -0.022339510  0.0082226498\n",
              "Employment                           1.673640e-01 -0.004824539  0.0278153917\n",
              "Religion                             2.370499e-01 -0.004796330  0.0193775132\n",
              "Political                            9.785925e-01 -0.021084989  0.0216702029\n",
              "Ethnicity                            6.907649e-01 -0.012471996  0.0188224073\n",
              "Income                               5.437450e-02 -0.026109366  0.0002429556\n",
              "df_us_Lin_diffY$Treatment:Age        4.117106e-13 -0.077682484 -0.0447049996\n",
              "df_us_Lin_diffY$Treatment:Gender     2.289681e-04 -0.090723029 -0.0277457565\n",
              "df_us_Lin_diffY$Treatment:Education  2.344484e-01 -0.007350316  0.0300121448\n",
              "df_us_Lin_diffY$Treatment:Employment 2.256222e-07 -0.069202845 -0.0312327935\n",
              "df_us_Lin_diffY$Treatment:Religion   1.719402e-06 -0.051298128 -0.0215058787\n",
              "df_us_Lin_diffY$Treatment:Political  4.673238e-05 -0.078970327 -0.0276732831\n",
              "df_us_Lin_diffY$Treatment:Ethnicity  6.807377e-01 -0.023637811  0.0154367511\n",
              "df_us_Lin_diffY$Treatment:Income     8.303241e-01 -0.014883185  0.0185360982\n",
              "                                       DF\n",
              "(Intercept)                          3983\n",
              "df_us_Lin_diffY$Treatment            3983\n",
              "Age                                  3983\n",
              "Gender                               3983\n",
              "Education                            3983\n",
              "Employment                           3983\n",
              "Religion                             3983\n",
              "Political                            3983\n",
              "Ethnicity                            3983\n",
              "Income                               3983\n",
              "df_us_Lin_diffY$Treatment:Age        3983\n",
              "df_us_Lin_diffY$Treatment:Gender     3983\n",
              "df_us_Lin_diffY$Treatment:Education  3983\n",
              "df_us_Lin_diffY$Treatment:Employment 3983\n",
              "df_us_Lin_diffY$Treatment:Religion   3983\n",
              "df_us_Lin_diffY$Treatment:Political  3983\n",
              "df_us_Lin_diffY$Treatment:Ethnicity  3983\n",
              "df_us_Lin_diffY$Treatment:Income     3983"
            ]
          },
          "metadata": {},
          "output_type": "display_data"
        }
      ]
    },
    {
      "cell_type": "markdown",
      "metadata": {
        "id": "LaSSwudMpkn4"
      },
      "source": [
        "## Old Placebo Code"
      ]
    },
    {
      "cell_type": "markdown",
      "metadata": {
        "id": "BLI2yHY52oWn"
      },
      "source": [
        "Without covariate adjustment"
      ]
    },
    {
      "cell_type": "code",
      "metadata": {
        "colab": {
          "base_uri": "https://localhost:8080/",
          "height": 34
        },
        "id": "9a9hnmLjqcyT",
        "outputId": "9323106b-d098-4757-8995-2091a8cfcb1f"
      },
      "source": [
        "df_us_cleaned_control <- df_us_cleaned[df_us_cleaned$Treatment == 0,]\n",
        "df_us_cleaned_treatment <- df_us_cleaned[df_us_cleaned$Treatment == 1,]\n",
        "#### fit bernoulli glm on control:\n",
        "glm_ber <- glm(Vaccine.Intent.for.self..Decrease ~ Age + Gender + Education + Employment + Religion\n",
        "+ Political + Ethnicity + Income + know.anyone.covid + Shielding + bad_covid_knowledge + bad_covid_vax_trust\n",
        "+ bad_general_vax_trust + covid_disrupt, \n",
        "       family=binomial(link=logit),\n",
        "       data=df_us_cleaned_control)\n",
        "\n",
        "prob_control <- predict(glm_ber, df_us_cleaned_control[,final_covariates], type = \"response\" )\n",
        "fake_outcome_control <- rbernoulli(length(prob_control), p = prob_control)\n",
        "\n",
        "prob_treatment <- predict(glm_ber, df_us_cleaned_treatment[,final_covariates], type = \"response\" )\n",
        "fake_outcome_treatment <- rbernoulli(length(prob_treatment), p = prob_treatment)\n",
        "\n",
        "#### Compute difference in mean:\n",
        "mean(fake_outcome_control) - mean(fake_outcome_treatment)"
      ],
      "execution_count": null,
      "outputs": [
        {
          "data": {
            "text/html": [
              "-0.00397034321892702"
            ],
            "text/latex": "-0.00397034321892702",
            "text/markdown": "-0.00397034321892702",
            "text/plain": [
              "[1] -0.003970343"
            ]
          },
          "metadata": {},
          "output_type": "display_data"
        }
      ]
    },
    {
      "cell_type": "markdown",
      "metadata": {
        "id": "XcpDKUjM5nk3"
      },
      "source": [
        "With covariate adjustment"
      ]
    },
    {
      "cell_type": "code",
      "metadata": {
        "colab": {
          "base_uri": "https://localhost:8080/",
          "height": 1000
        },
        "id": "g6hyub5rqdoN",
        "outputId": "b4bcf30a-697a-4837-85a3-23266f73780e"
      },
      "source": [
        "\n",
        "\n",
        "\n",
        "# glm_ber_Lin <- glm(df_us_cleaned_control$Vaccine.Intent.for.self..Decrease ~ \n",
        "#        family=binomial(link=logit),\n",
        "#        data=df_us_cleaned_control)\n",
        "\n",
        "df_us_fake_outcome <- df_us_cleaned %>%\n",
        "  mutate(\n",
        "    placebo_Y <- c(fake_outcome_treatment, fake_outcome_control)\n",
        "  )\n",
        "\n",
        "Lin_covariate <- df_us_fake_outcome[,final_covariates] - colMeans(df_us_fake_outcome[,final_covariates]) \n",
        "\n",
        "placebo_lin_fit= lm(df_us_fake_outcome$placebo_Y ~ df_us_fake_outcome$Treatment + . + \n",
        "          df_us_Lin$Treatment * . , Lin_covariate)\n",
        "\n",
        "summary(placebo_lin_fit)"
      ],
      "execution_count": null,
      "outputs": [
        {
          "data": {
            "text/plain": [
              "\n",
              "Call:\n",
              "lm(formula = df_us_fake_outcome$placebo_Y ~ df_us_fake_outcome$Treatment + \n",
              "    . + df_us_Lin$Treatment * ., data = Lin_covariate)\n",
              "\n",
              "Residuals:\n",
              "     Min       1Q   Median       3Q      Max \n",
              "-0.30619 -0.11244 -0.07175 -0.03353  1.04285 \n",
              "\n",
              "Coefficients: (1 not defined because of singularities)\n",
              "                                           Estimate Std. Error t value Pr(>|t|)\n",
              "(Intercept)                                0.139145   0.051116   2.722  0.00651\n",
              "df_us_fake_outcome$Treatment               0.043335   0.058877   0.736  0.46176\n",
              "Age                                        0.003360   0.005325   0.631  0.52809\n",
              "Gender                                    -0.017464   0.010282  -1.698  0.08951\n",
              "Education                                 -0.016347   0.005955  -2.745  0.00608\n",
              "Employment                                 0.001925   0.005744   0.335  0.73748\n",
              "Religion                                  -0.005611   0.004833  -1.161  0.24578\n",
              "Political                                  0.009666   0.008553   1.130  0.25853\n",
              "Ethnicity                                  0.029829   0.005932   5.029 5.16e-07\n",
              "Income                                    -0.006795   0.005614  -1.210  0.22621\n",
              "know.anyone.covid                          0.018739   0.010233   1.831  0.06714\n",
              "Shielding                                 -0.000199   0.010127  -0.020  0.98432\n",
              "bad_covid_knowledge                       -0.000560   0.011231  -0.050  0.96023\n",
              "bad_covid_vax_trust                        0.004351   0.011134   0.391  0.69599\n",
              "bad_general_vax_trust                      0.009589   0.011329   0.846  0.39741\n",
              "covid_disrupt                             -0.013266   0.011139  -1.191  0.23376\n",
              "df_us_Lin$Treatment                              NA         NA      NA       NA\n",
              "Age:df_us_Lin$Treatment                   -0.007767   0.006226  -1.247  0.21231\n",
              "Gender:df_us_Lin$Treatment                -0.003501   0.011829  -0.296  0.76729\n",
              "Education:df_us_Lin$Treatment              0.006807   0.006906   0.986  0.32436\n",
              "Employment:df_us_Lin$Treatment            -0.002537   0.006459  -0.393  0.69450\n",
              "Religion:df_us_Lin$Treatment               0.006152   0.005589   1.101  0.27102\n",
              "Political:df_us_Lin$Treatment             -0.008638   0.009791  -0.882  0.37771\n",
              "Ethnicity:df_us_Lin$Treatment             -0.000605   0.006993  -0.087  0.93106\n",
              "Income:df_us_Lin$Treatment                -0.001437   0.006584  -0.218  0.82728\n",
              "know.anyone.covid:df_us_Lin$Treatment      0.005674   0.011828   0.480  0.63146\n",
              "Shielding:df_us_Lin$Treatment              0.005444   0.011721   0.464  0.64237\n",
              "bad_covid_knowledge:df_us_Lin$Treatment    0.019544   0.012992   1.504  0.13258\n",
              "bad_covid_vax_trust:df_us_Lin$Treatment   -0.007544   0.012870  -0.586  0.55779\n",
              "bad_general_vax_trust:df_us_Lin$Treatment  0.002146   0.013104   0.164  0.86989\n",
              "covid_disrupt:df_us_Lin$Treatment         -0.005706   0.012719  -0.449  0.65371\n",
              "                                             \n",
              "(Intercept)                               ** \n",
              "df_us_fake_outcome$Treatment                 \n",
              "Age                                          \n",
              "Gender                                    .  \n",
              "Education                                 ** \n",
              "Employment                                   \n",
              "Religion                                     \n",
              "Political                                    \n",
              "Ethnicity                                 ***\n",
              "Income                                       \n",
              "know.anyone.covid                         .  \n",
              "Shielding                                    \n",
              "bad_covid_knowledge                          \n",
              "bad_covid_vax_trust                          \n",
              "bad_general_vax_trust                        \n",
              "covid_disrupt                                \n",
              "df_us_Lin$Treatment                          \n",
              "Age:df_us_Lin$Treatment                      \n",
              "Gender:df_us_Lin$Treatment                   \n",
              "Education:df_us_Lin$Treatment                \n",
              "Employment:df_us_Lin$Treatment               \n",
              "Religion:df_us_Lin$Treatment                 \n",
              "Political:df_us_Lin$Treatment                \n",
              "Ethnicity:df_us_Lin$Treatment                \n",
              "Income:df_us_Lin$Treatment                   \n",
              "know.anyone.covid:df_us_Lin$Treatment        \n",
              "Shielding:df_us_Lin$Treatment                \n",
              "bad_covid_knowledge:df_us_Lin$Treatment      \n",
              "bad_covid_vax_trust:df_us_Lin$Treatment      \n",
              "bad_general_vax_trust:df_us_Lin$Treatment    \n",
              "covid_disrupt:df_us_Lin$Treatment            \n",
              "---\n",
              "Signif. codes:  0 ‘***’ 0.001 ‘**’ 0.01 ‘*’ 0.05 ‘.’ 0.1 ‘ ’ 1\n",
              "\n",
              "Residual standard error: 0.2784 on 3971 degrees of freedom\n",
              "Multiple R-squared:  0.04121,\tAdjusted R-squared:  0.03421 \n",
              "F-statistic: 5.885 on 29 and 3971 DF,  p-value: < 2.2e-16\n"
            ]
          },
          "metadata": {},
          "output_type": "display_data"
        }
      ]
    }
  ]
}